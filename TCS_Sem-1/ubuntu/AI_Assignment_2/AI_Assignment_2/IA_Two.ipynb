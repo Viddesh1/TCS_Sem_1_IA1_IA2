{
 "cells": [
  {
   "cell_type": "markdown",
   "metadata": {},
   "source": [
    "# Industry Assignment - 2"
   ]
  },
  {
   "cell_type": "markdown",
   "metadata": {},
   "source": [
    "## 1 - Data Collection - Completeness and correctness of data collection"
   ]
  },
  {
   "cell_type": "code",
   "execution_count": 142,
   "metadata": {},
   "outputs": [],
   "source": [
    "# Importing all the necessary libraries and installing package\n",
    "\n",
    "# !pip3 install statsmodels \n",
    "import os\n",
    "import warnings\n",
    "import pandas as pd # Importing pandas for working with daframes\n",
    "import numpy as np # numpy for numeric computation\n",
    "import matplotlib.pyplot as plt # Matplotlib for ploting\n",
    "from sklearn.preprocessing import LabelEncoder # label encoding for categorical data.\n",
    "# Checking For Stationarity using Argumented Dickey Fuller test\n",
    "from statsmodels.tsa.stattools import adfuller # Getting the value of d (Integrated)\n",
    "from statsmodels.graphics.tsaplots import plot_acf, plot_pacf # Getting q, p\n",
    "from statsmodels.tsa.arima.model import ARIMA # Importing ARIMA model from statsmodels\n",
    "from sklearn.metrics import mean_squared_error, mean_absolute_error # Error Metrics \n",
    "from math import sqrt\n",
    "from sklearn.preprocessing import MinMaxScaler # pre-processing min-max scalling\n",
    "from sklearn.model_selection import train_test_split # Splitling in train and test set\n",
    "from sklearn.linear_model import LogisticRegression # Importing logistic regression model\n",
    "from sklearn.metrics import accuracy_score # Evaualating accuracy of logistic regression model"
   ]
  },
  {
   "cell_type": "code",
   "execution_count": 143,
   "metadata": {},
   "outputs": [
    {
     "data": {
      "text/plain": [
       "'/home/user780/user780/AI_Assignment_2'"
      ]
     },
     "execution_count": 143,
     "metadata": {},
     "output_type": "execute_result"
    }
   ],
   "source": [
    "# Getting the current working directory.\n",
    "\n",
    "os.getcwd()"
   ]
  },
  {
   "cell_type": "code",
   "execution_count": 144,
   "metadata": {},
   "outputs": [],
   "source": [
    "warnings.filterwarnings('ignore')"
   ]
  },
  {
   "cell_type": "code",
   "execution_count": 145,
   "metadata": {},
   "outputs": [
    {
     "data": {
      "text/html": [
       "<div>\n",
       "<style scoped>\n",
       "    .dataframe tbody tr th:only-of-type {\n",
       "        vertical-align: middle;\n",
       "    }\n",
       "\n",
       "    .dataframe tbody tr th {\n",
       "        vertical-align: top;\n",
       "    }\n",
       "\n",
       "    .dataframe thead th {\n",
       "        text-align: right;\n",
       "    }\n",
       "</style>\n",
       "<table border=\"1\" class=\"dataframe\">\n",
       "  <thead>\n",
       "    <tr style=\"text-align: right;\">\n",
       "      <th></th>\n",
       "      <th>Location</th>\n",
       "      <th>MinTemp</th>\n",
       "      <th>MaxTemp</th>\n",
       "      <th>Rainfall</th>\n",
       "      <th>Evaporation</th>\n",
       "      <th>Sunshine</th>\n",
       "      <th>WindGustDir</th>\n",
       "      <th>WindGustSpeed</th>\n",
       "      <th>WindDir9am</th>\n",
       "      <th>WindDir3pm</th>\n",
       "      <th>...</th>\n",
       "      <th>Humidity3pm</th>\n",
       "      <th>Pressure9am</th>\n",
       "      <th>Pressure3pm</th>\n",
       "      <th>Cloud9am</th>\n",
       "      <th>Cloud3pm</th>\n",
       "      <th>Temp9am</th>\n",
       "      <th>Temp3pm</th>\n",
       "      <th>RainToday</th>\n",
       "      <th>RISK_MM</th>\n",
       "      <th>RainTomorrow</th>\n",
       "    </tr>\n",
       "    <tr>\n",
       "      <th>Date</th>\n",
       "      <th></th>\n",
       "      <th></th>\n",
       "      <th></th>\n",
       "      <th></th>\n",
       "      <th></th>\n",
       "      <th></th>\n",
       "      <th></th>\n",
       "      <th></th>\n",
       "      <th></th>\n",
       "      <th></th>\n",
       "      <th></th>\n",
       "      <th></th>\n",
       "      <th></th>\n",
       "      <th></th>\n",
       "      <th></th>\n",
       "      <th></th>\n",
       "      <th></th>\n",
       "      <th></th>\n",
       "      <th></th>\n",
       "      <th></th>\n",
       "      <th></th>\n",
       "    </tr>\n",
       "  </thead>\n",
       "  <tbody>\n",
       "    <tr>\n",
       "      <th>2008-12-01</th>\n",
       "      <td>Albury</td>\n",
       "      <td>13.4</td>\n",
       "      <td>22.9</td>\n",
       "      <td>0.6</td>\n",
       "      <td>NaN</td>\n",
       "      <td>NaN</td>\n",
       "      <td>W</td>\n",
       "      <td>44.0</td>\n",
       "      <td>W</td>\n",
       "      <td>WNW</td>\n",
       "      <td>...</td>\n",
       "      <td>22.0</td>\n",
       "      <td>1007.7</td>\n",
       "      <td>1007.1</td>\n",
       "      <td>8.0</td>\n",
       "      <td>NaN</td>\n",
       "      <td>16.9</td>\n",
       "      <td>21.8</td>\n",
       "      <td>No</td>\n",
       "      <td>0.0</td>\n",
       "      <td>No</td>\n",
       "    </tr>\n",
       "    <tr>\n",
       "      <th>2008-12-02</th>\n",
       "      <td>Albury</td>\n",
       "      <td>7.4</td>\n",
       "      <td>25.1</td>\n",
       "      <td>0.0</td>\n",
       "      <td>NaN</td>\n",
       "      <td>NaN</td>\n",
       "      <td>WNW</td>\n",
       "      <td>44.0</td>\n",
       "      <td>NNW</td>\n",
       "      <td>WSW</td>\n",
       "      <td>...</td>\n",
       "      <td>25.0</td>\n",
       "      <td>1010.6</td>\n",
       "      <td>1007.8</td>\n",
       "      <td>NaN</td>\n",
       "      <td>NaN</td>\n",
       "      <td>17.2</td>\n",
       "      <td>24.3</td>\n",
       "      <td>No</td>\n",
       "      <td>0.0</td>\n",
       "      <td>No</td>\n",
       "    </tr>\n",
       "    <tr>\n",
       "      <th>2008-12-03</th>\n",
       "      <td>Albury</td>\n",
       "      <td>12.9</td>\n",
       "      <td>25.7</td>\n",
       "      <td>0.0</td>\n",
       "      <td>NaN</td>\n",
       "      <td>NaN</td>\n",
       "      <td>WSW</td>\n",
       "      <td>46.0</td>\n",
       "      <td>W</td>\n",
       "      <td>WSW</td>\n",
       "      <td>...</td>\n",
       "      <td>30.0</td>\n",
       "      <td>1007.6</td>\n",
       "      <td>1008.7</td>\n",
       "      <td>NaN</td>\n",
       "      <td>2.0</td>\n",
       "      <td>21.0</td>\n",
       "      <td>23.2</td>\n",
       "      <td>No</td>\n",
       "      <td>0.0</td>\n",
       "      <td>No</td>\n",
       "    </tr>\n",
       "    <tr>\n",
       "      <th>2008-12-04</th>\n",
       "      <td>Albury</td>\n",
       "      <td>9.2</td>\n",
       "      <td>28.0</td>\n",
       "      <td>0.0</td>\n",
       "      <td>NaN</td>\n",
       "      <td>NaN</td>\n",
       "      <td>NE</td>\n",
       "      <td>24.0</td>\n",
       "      <td>SE</td>\n",
       "      <td>E</td>\n",
       "      <td>...</td>\n",
       "      <td>16.0</td>\n",
       "      <td>1017.6</td>\n",
       "      <td>1012.8</td>\n",
       "      <td>NaN</td>\n",
       "      <td>NaN</td>\n",
       "      <td>18.1</td>\n",
       "      <td>26.5</td>\n",
       "      <td>No</td>\n",
       "      <td>1.0</td>\n",
       "      <td>No</td>\n",
       "    </tr>\n",
       "    <tr>\n",
       "      <th>2008-12-05</th>\n",
       "      <td>Albury</td>\n",
       "      <td>17.5</td>\n",
       "      <td>32.3</td>\n",
       "      <td>1.0</td>\n",
       "      <td>NaN</td>\n",
       "      <td>NaN</td>\n",
       "      <td>W</td>\n",
       "      <td>41.0</td>\n",
       "      <td>ENE</td>\n",
       "      <td>NW</td>\n",
       "      <td>...</td>\n",
       "      <td>33.0</td>\n",
       "      <td>1010.8</td>\n",
       "      <td>1006.0</td>\n",
       "      <td>7.0</td>\n",
       "      <td>8.0</td>\n",
       "      <td>17.8</td>\n",
       "      <td>29.7</td>\n",
       "      <td>No</td>\n",
       "      <td>0.2</td>\n",
       "      <td>No</td>\n",
       "    </tr>\n",
       "  </tbody>\n",
       "</table>\n",
       "<p>5 rows × 23 columns</p>\n",
       "</div>"
      ],
      "text/plain": [
       "           Location  MinTemp  MaxTemp  Rainfall  Evaporation  Sunshine  \\\n",
       "Date                                                                     \n",
       "2008-12-01   Albury     13.4     22.9       0.6          NaN       NaN   \n",
       "2008-12-02   Albury      7.4     25.1       0.0          NaN       NaN   \n",
       "2008-12-03   Albury     12.9     25.7       0.0          NaN       NaN   \n",
       "2008-12-04   Albury      9.2     28.0       0.0          NaN       NaN   \n",
       "2008-12-05   Albury     17.5     32.3       1.0          NaN       NaN   \n",
       "\n",
       "           WindGustDir  WindGustSpeed WindDir9am WindDir3pm  ...  Humidity3pm  \\\n",
       "Date                                                         ...                \n",
       "2008-12-01           W           44.0          W        WNW  ...         22.0   \n",
       "2008-12-02         WNW           44.0        NNW        WSW  ...         25.0   \n",
       "2008-12-03         WSW           46.0          W        WSW  ...         30.0   \n",
       "2008-12-04          NE           24.0         SE          E  ...         16.0   \n",
       "2008-12-05           W           41.0        ENE         NW  ...         33.0   \n",
       "\n",
       "            Pressure9am  Pressure3pm  Cloud9am  Cloud3pm  Temp9am  Temp3pm  \\\n",
       "Date                                                                         \n",
       "2008-12-01       1007.7       1007.1       8.0       NaN     16.9     21.8   \n",
       "2008-12-02       1010.6       1007.8       NaN       NaN     17.2     24.3   \n",
       "2008-12-03       1007.6       1008.7       NaN       2.0     21.0     23.2   \n",
       "2008-12-04       1017.6       1012.8       NaN       NaN     18.1     26.5   \n",
       "2008-12-05       1010.8       1006.0       7.0       8.0     17.8     29.7   \n",
       "\n",
       "            RainToday  RISK_MM  RainTomorrow  \n",
       "Date                                          \n",
       "2008-12-01         No      0.0            No  \n",
       "2008-12-02         No      0.0            No  \n",
       "2008-12-03         No      0.0            No  \n",
       "2008-12-04         No      1.0            No  \n",
       "2008-12-05         No      0.2            No  \n",
       "\n",
       "[5 rows x 23 columns]"
      ]
     },
     "execution_count": 145,
     "metadata": {},
     "output_type": "execute_result"
    }
   ],
   "source": [
    "# For prediction of the whether the it will rain the next day 2017-06-25 or not.\n",
    "# I have used ARIMA model for predicting Rainfall float value for the next day 2017-06-25.\n",
    "# Rainfall -> (p, d, q) --> (2,1,4)\n",
    "# Also, Logistic Regression to get the boolean value below:-\n",
    "# 1 :- Will rain on next day 2017-06-25\n",
    "# 0 :- Will not rain on next day 2017-06-25\n",
    "\n",
    "# Reading the csv file of \"weatherAUS\" and setting index column to Date and parse date to be true.\n",
    "# So that pandas can parse the datavalues in date format.\n",
    "df = pd.read_csv('/home/user780/user780/AI_Assignment_2/weatherAUS.csv', index_col='Date', parse_dates=True)\n",
    "df.head()"
   ]
  },
  {
   "cell_type": "markdown",
   "metadata": {},
   "source": [
    "## 2 - Data preparation - cleansing and preparing data for the next steps of model development"
   ]
  },
  {
   "cell_type": "code",
   "execution_count": 146,
   "metadata": {},
   "outputs": [
    {
     "data": {
      "text/plain": [
       "(142193, 23)"
      ]
     },
     "execution_count": 146,
     "metadata": {},
     "output_type": "execute_result"
    }
   ],
   "source": [
    "df.shape # checking the shape of the dataframe"
   ]
  },
  {
   "cell_type": "code",
   "execution_count": 147,
   "metadata": {},
   "outputs": [
    {
     "data": {
      "text/plain": [
       "Location          object\n",
       "MinTemp          float64\n",
       "MaxTemp          float64\n",
       "Rainfall         float64\n",
       "Evaporation      float64\n",
       "Sunshine         float64\n",
       "WindGustDir       object\n",
       "WindGustSpeed    float64\n",
       "WindDir9am        object\n",
       "WindDir3pm        object\n",
       "WindSpeed9am     float64\n",
       "WindSpeed3pm     float64\n",
       "Humidity9am      float64\n",
       "Humidity3pm      float64\n",
       "Pressure9am      float64\n",
       "Pressure3pm      float64\n",
       "Cloud9am         float64\n",
       "Cloud3pm         float64\n",
       "Temp9am          float64\n",
       "Temp3pm          float64\n",
       "RainToday         object\n",
       "RISK_MM          float64\n",
       "RainTomorrow      object\n",
       "dtype: object"
      ]
     },
     "execution_count": 147,
     "metadata": {},
     "output_type": "execute_result"
    }
   ],
   "source": [
    "df.dtypes # Checking the datatypes of the dataframe columns"
   ]
  },
  {
   "cell_type": "code",
   "execution_count": 148,
   "metadata": {},
   "outputs": [
    {
     "data": {
      "text/plain": [
       "Location             0\n",
       "MinTemp            637\n",
       "MaxTemp            322\n",
       "Rainfall          1406\n",
       "Evaporation      60843\n",
       "Sunshine         67816\n",
       "WindGustDir       9330\n",
       "WindGustSpeed     9270\n",
       "WindDir9am       10013\n",
       "WindDir3pm        3778\n",
       "WindSpeed9am      1348\n",
       "WindSpeed3pm      2630\n",
       "Humidity9am       1774\n",
       "Humidity3pm       3610\n",
       "Pressure9am      14014\n",
       "Pressure3pm      13981\n",
       "Cloud9am         53657\n",
       "Cloud3pm         57094\n",
       "Temp9am            904\n",
       "Temp3pm           2726\n",
       "RainToday         1406\n",
       "RISK_MM              0\n",
       "RainTomorrow         0\n",
       "dtype: int64"
      ]
     },
     "execution_count": 148,
     "metadata": {},
     "output_type": "execute_result"
    }
   ],
   "source": [
    "df.isna().sum()"
   ]
  },
  {
   "cell_type": "code",
   "execution_count": 149,
   "metadata": {},
   "outputs": [
    {
     "name": "stdout",
     "output_type": "stream",
     "text": [
      "<class 'pandas.core.frame.DataFrame'>\n",
      "DatetimeIndex: 142193 entries, 2008-12-01 to 2017-06-24\n",
      "Data columns (total 23 columns):\n",
      " #   Column         Non-Null Count   Dtype  \n",
      "---  ------         --------------   -----  \n",
      " 0   Location       142193 non-null  object \n",
      " 1   MinTemp        141556 non-null  float64\n",
      " 2   MaxTemp        141871 non-null  float64\n",
      " 3   Rainfall       140787 non-null  float64\n",
      " 4   Evaporation    81350 non-null   float64\n",
      " 5   Sunshine       74377 non-null   float64\n",
      " 6   WindGustDir    132863 non-null  object \n",
      " 7   WindGustSpeed  132923 non-null  float64\n",
      " 8   WindDir9am     132180 non-null  object \n",
      " 9   WindDir3pm     138415 non-null  object \n",
      " 10  WindSpeed9am   140845 non-null  float64\n",
      " 11  WindSpeed3pm   139563 non-null  float64\n",
      " 12  Humidity9am    140419 non-null  float64\n",
      " 13  Humidity3pm    138583 non-null  float64\n",
      " 14  Pressure9am    128179 non-null  float64\n",
      " 15  Pressure3pm    128212 non-null  float64\n",
      " 16  Cloud9am       88536 non-null   float64\n",
      " 17  Cloud3pm       85099 non-null   float64\n",
      " 18  Temp9am        141289 non-null  float64\n",
      " 19  Temp3pm        139467 non-null  float64\n",
      " 20  RainToday      140787 non-null  object \n",
      " 21  RISK_MM        142193 non-null  float64\n",
      " 22  RainTomorrow   142193 non-null  object \n",
      "dtypes: float64(17), object(6)\n",
      "memory usage: 26.0+ MB\n"
     ]
    }
   ],
   "source": [
    "df.info() # Information of all the dataframe columns and there datatypes."
   ]
  },
  {
   "cell_type": "code",
   "execution_count": 150,
   "metadata": {},
   "outputs": [],
   "source": [
    "# For all the float datatypes in the dataframe columns filling it with mean of specific columns\n",
    "# For all the object datatypes in the dataframe columns filling it with mode of specific columns\n",
    "\n",
    "obj = df.select_dtypes(include='float').columns\n",
    "for i in obj:\n",
    "    df[str(i)].fillna(df[str(i)].mean(), inplace=True)\n",
    "\n",
    "obj2 = df.select_dtypes(include='object').columns\n",
    "for i in obj2:\n",
    "    df[str(i)].fillna(df[str(i)].mode().max(), inplace=True)"
   ]
  },
  {
   "cell_type": "code",
   "execution_count": 151,
   "metadata": {},
   "outputs": [
    {
     "data": {
      "text/plain": [
       "Location         0\n",
       "MinTemp          0\n",
       "MaxTemp          0\n",
       "Rainfall         0\n",
       "Evaporation      0\n",
       "Sunshine         0\n",
       "WindGustDir      0\n",
       "WindGustSpeed    0\n",
       "WindDir9am       0\n",
       "WindDir3pm       0\n",
       "WindSpeed9am     0\n",
       "WindSpeed3pm     0\n",
       "Humidity9am      0\n",
       "Humidity3pm      0\n",
       "Pressure9am      0\n",
       "Pressure3pm      0\n",
       "Cloud9am         0\n",
       "Cloud3pm         0\n",
       "Temp9am          0\n",
       "Temp3pm          0\n",
       "RainToday        0\n",
       "RISK_MM          0\n",
       "RainTomorrow     0\n",
       "dtype: int64"
      ]
     },
     "execution_count": 151,
     "metadata": {},
     "output_type": "execute_result"
    }
   ],
   "source": [
    "df.isna().sum() # Checking if there are 0 null values for all the features space."
   ]
  },
  {
   "cell_type": "code",
   "execution_count": 152,
   "metadata": {},
   "outputs": [],
   "source": [
    "# Converting the object or string values of \"RainTomarrow\" and \"RainToday\" to numeric below:-\n",
    "# 1 if 'yes'\n",
    "# else 0\n",
    "\n",
    "df['RainTomorrow'] = df['RainTomorrow'].apply(lambda x : 1 if x == 'Yes' else 0)\n",
    "df['RainToday'] = df['RainToday'].apply(lambda x : 1 if x == 'Yes' else 0)"
   ]
  },
  {
   "cell_type": "code",
   "execution_count": 153,
   "metadata": {},
   "outputs": [
    {
     "data": {
      "text/plain": [
       "{0, 1}"
      ]
     },
     "execution_count": 153,
     "metadata": {},
     "output_type": "execute_result"
    }
   ],
   "source": [
    "set(df['RainTomorrow']) # Checking the unique values of the 'Rain Tomarrow'"
   ]
  },
  {
   "cell_type": "code",
   "execution_count": 154,
   "metadata": {},
   "outputs": [
    {
     "data": {
      "text/plain": [
       "Location          object\n",
       "MinTemp          float64\n",
       "MaxTemp          float64\n",
       "Rainfall         float64\n",
       "Evaporation      float64\n",
       "Sunshine         float64\n",
       "WindGustDir       object\n",
       "WindGustSpeed    float64\n",
       "WindDir9am        object\n",
       "WindDir3pm        object\n",
       "WindSpeed9am     float64\n",
       "WindSpeed3pm     float64\n",
       "Humidity9am      float64\n",
       "Humidity3pm      float64\n",
       "Pressure9am      float64\n",
       "Pressure3pm      float64\n",
       "Cloud9am         float64\n",
       "Cloud3pm         float64\n",
       "Temp9am          float64\n",
       "Temp3pm          float64\n",
       "RainToday          int64\n",
       "RISK_MM          float64\n",
       "RainTomorrow       int64\n",
       "dtype: object"
      ]
     },
     "execution_count": 154,
     "metadata": {},
     "output_type": "execute_result"
    }
   ],
   "source": [
    "df.dtypes"
   ]
  },
  {
   "cell_type": "code",
   "execution_count": 155,
   "metadata": {},
   "outputs": [
    {
     "name": "stdout",
     "output_type": "stream",
     "text": [
      "Unique values in Location: \n",
      "['Albury' 'BadgerysCreek' 'Cobar' 'CoffsHarbour' 'Moree' 'Newcastle'\n",
      " 'NorahHead' 'NorfolkIsland' 'Penrith' 'Richmond' 'Sydney' 'SydneyAirport'\n",
      " 'WaggaWagga' 'Williamtown' 'Wollongong' 'Canberra' 'Tuggeranong'\n",
      " 'MountGinini' 'Ballarat' 'Bendigo' 'Sale' 'MelbourneAirport' 'Melbourne'\n",
      " 'Mildura' 'Nhil' 'Portland' 'Watsonia' 'Dartmoor' 'Brisbane' 'Cairns'\n",
      " 'GoldCoast' 'Townsville' 'Adelaide' 'MountGambier' 'Nuriootpa' 'Woomera'\n",
      " 'Albany' 'Witchcliffe' 'PearceRAAF' 'PerthAirport' 'Perth' 'SalmonGums'\n",
      " 'Walpole' 'Hobart' 'Launceston' 'AliceSprings' 'Darwin' 'Katherine'\n",
      " 'Uluru']\n",
      "\n",
      "Unique values in WindGustDir: \n",
      "['W' 'WNW' 'WSW' 'NE' 'NNW' 'N' 'NNE' 'SW' 'ENE' 'SSE' 'S' 'NW' 'SE' 'ESE'\n",
      " 'E' 'SSW']\n",
      "\n",
      "Unique values in WindDir9am: \n",
      "['W' 'NNW' 'SE' 'ENE' 'SW' 'SSE' 'S' 'NE' 'N' 'SSW' 'WSW' 'ESE' 'E' 'NW'\n",
      " 'WNW' 'NNE']\n",
      "\n",
      "Unique values in WindDir3pm: \n",
      "['WNW' 'WSW' 'E' 'NW' 'W' 'SSE' 'ESE' 'ENE' 'NNW' 'SSW' 'SW' 'SE' 'N' 'S'\n",
      " 'NNE' 'NE']\n",
      "\n"
     ]
    }
   ],
   "source": [
    "# List of the unique values for all the object datatypes columns\n",
    "for i in df.select_dtypes(include='object').columns:\n",
    "    print(f\"Unique values in {str(i)}: \\n{df[str(i)].unique()}\", end=\"\\n\\n\")\n"
   ]
  },
  {
   "cell_type": "code",
   "execution_count": 156,
   "metadata": {},
   "outputs": [],
   "source": [
    "# Through sklean's LabelEncoding we create labels which are numeric for all categorical variables \n",
    "# The labels are created in same columns and interger starts from 0.\n",
    "\n",
    "label_encode = LabelEncoder()\n",
    "df['Location'] = label_encode.fit_transform(df['Location'])\n",
    "df['WindGustDir'] = label_encode.fit_transform(df['WindGustDir'])\n",
    "df['WindDir9am'] = label_encode.fit_transform(df['WindDir9am'])\n",
    "df['WindDir3pm'] = label_encode.fit_transform(df['WindDir3pm'])"
   ]
  },
  {
   "cell_type": "code",
   "execution_count": 157,
   "metadata": {},
   "outputs": [
    {
     "data": {
      "text/plain": [
       "Location           int64\n",
       "MinTemp          float64\n",
       "MaxTemp          float64\n",
       "Rainfall         float64\n",
       "Evaporation      float64\n",
       "Sunshine         float64\n",
       "WindGustDir        int64\n",
       "WindGustSpeed    float64\n",
       "WindDir9am         int64\n",
       "WindDir3pm         int64\n",
       "WindSpeed9am     float64\n",
       "WindSpeed3pm     float64\n",
       "Humidity9am      float64\n",
       "Humidity3pm      float64\n",
       "Pressure9am      float64\n",
       "Pressure3pm      float64\n",
       "Cloud9am         float64\n",
       "Cloud3pm         float64\n",
       "Temp9am          float64\n",
       "Temp3pm          float64\n",
       "RainToday          int64\n",
       "RISK_MM          float64\n",
       "RainTomorrow       int64\n",
       "dtype: object"
      ]
     },
     "execution_count": 157,
     "metadata": {},
     "output_type": "execute_result"
    }
   ],
   "source": [
    "df.dtypes"
   ]
  },
  {
   "cell_type": "markdown",
   "metadata": {},
   "source": [
    "## 3 - Algorithm Understanding - Knowledge of the algorithm used for model development"
   ]
  },
  {
   "cell_type": "code",
   "execution_count": 158,
   "metadata": {},
   "outputs": [],
   "source": [
    "# What is expected :-\n",
    "# Create a prediction model that will predict whether it will rain the next day or not?\n",
    "\n",
    "# According to the problem statement above I have to predict whether the next day will rain \n",
    "# or will not rain on next day. Since the data given is timeseries data in which prediction\n",
    "# to de done. I have used ARIMA (Autoregressive integrated moving average) model.\n",
    "\n",
    "# Why ARIMA model?\n",
    "# --> \n",
    "# 1) It is widely used in the demand of the forecasting the time series data.\n",
    "# 2) ARIMA model predicts the future values based on past values.\n",
    "# 3) ARIMA makes use of lagged moving averages to smooth time series data.\n",
    "# 4) It is a univariate model.\n",
    "# 5) This dataset does not have seasonality. If seasonality pattern would have been there then \n",
    "# SARIMA model would have been used.\n",
    "# 6) VARMAX model is a multivariate model and more computationally intensive as the\n",
    "# feature space increases.\n",
    "# 7) ARIMA model is a collection of Autoregressive model and Moving Average with Integration.\n",
    "\n",
    "# Technical detail of ARIMA model:-\n",
    "\n",
    "# ARIMA models are generally denoted as ARIMA (p,d,q) \n",
    "\n",
    "# Where, \n",
    "\n",
    "# p is the order of autoregressive model (predict future values based on past values)\n",
    "# d is the degree of differencing (Making data stationary)\n",
    "# q is the order of moving-average model. (Averages set of range)\n"
   ]
  },
  {
   "cell_type": "markdown",
   "metadata": {},
   "source": [
    "### Creating model and testing - 1"
   ]
  },
  {
   "cell_type": "code",
   "execution_count": 159,
   "metadata": {},
   "outputs": [
    {
     "name": "stdout",
     "output_type": "stream",
     "text": [
      "(142193, 23)\n",
      "(142163, 23) (30, 23)\n"
     ]
    }
   ],
   "source": [
    "# Checking the shape of the dataframe\n",
    "# Creating the train and test sets\n",
    "# train :- Consist of all the values from first to last but excluding last 30 values\n",
    "# test :- Conisit of last 30 values\n",
    "\n",
    "print(df.shape)\n",
    "train=df.iloc[:-30]\n",
    "test=df.iloc[-30:]\n",
    "print(train.shape,test.shape)"
   ]
  },
  {
   "cell_type": "code",
   "execution_count": 160,
   "metadata": {},
   "outputs": [
    {
     "data": {
      "image/png": "[encoded data removed]",
      "text/plain": [
       "<Figure size 1224x360 with 1 Axes>"
      ]
     },
     "metadata": {},
     "output_type": "display_data"
    }
   ],
   "source": [
    "# Visualizing the trainig and testing datasets\n",
    "plt.figure(figsize=(17, 5))\n",
    "plt.grid(True)\n",
    "plt.plot(train.index[-50:], train[\"Rainfall\"][-50:], label=\"Train\", color='green')\n",
    "plt.plot(test.index, test[\"Rainfall\"], label=\"Test\", color=\"blue\")\n",
    "plt.legend()\n",
    "plt.show()"
   ]
  },
  {
   "cell_type": "code",
   "execution_count": 161,
   "metadata": {},
   "outputs": [
    {
     "name": "stdout",
     "output_type": "stream",
     "text": [
      "1. ADF :  -24.67984040402245\n",
      "2. P-Value :  0.0\n",
      "3. Num Of Lags :  0\n",
      "4. Num Of Observations Used For ADF Regression: 999\n",
      "5. Critical Values :\n",
      "\t 1% :  -3.4369127451400474\n",
      "\t 5% :  -2.864437475834273\n",
      "\t 10% :  -2.568312754566378\n"
     ]
    }
   ],
   "source": [
    "# Checking For Stationarity using Argumented Dickey Fuller test\n",
    "# If p < 0.05 ---> Data is stationary\n",
    "# if p > 0.05 ---> Data is not stationary\n",
    "\n",
    "def adf_test(dataset):\n",
    "     dftest = adfuller(dataset, autolag = 'AIC')\n",
    "     print(\"1. ADF : \",dftest[0])\n",
    "     print(\"2. P-Value : \", dftest[1])\n",
    "     print(\"3. Num Of Lags : \", dftest[2])\n",
    "     print(\"4. Num Of Observations Used For ADF Regression:\", dftest[3])\n",
    "     print(\"5. Critical Values :\")\n",
    "     for key, val in dftest[4].items():\n",
    "         print(\"\\t\",key, \": \", val)\n",
    "        \n",
    "adf_test(train['Rainfall'][:1000])\n",
    "\n",
    "# Since, In the below result of the P-Value : 0.0. which is p < 0.05 ---> Data is stationary\n",
    "# There is no need for differencing the values with previous values to make the timeseries stationary. \n",
    "# Time series is already stationary. \n",
    "# So,  from (p, d, q) value of d = 0 i.e (p, 0, q)"
   ]
  },
  {
   "cell_type": "code",
   "execution_count": 162,
   "metadata": {},
   "outputs": [
    {
     "data": {
      "image/png": "[encoded data removed]",
      "text/plain": [
       "<Figure size 432x288 with 1 Axes>"
      ]
     },
     "execution_count": 162,
     "metadata": {},
     "output_type": "execute_result"
    },
    {
     "data": {
      "image/png": "[encoded data removed]",
      "text/plain": [
       "<Figure size 432x288 with 1 Axes>"
      ]
     },
     "metadata": {},
     "output_type": "display_data"
    }
   ],
   "source": [
    "# Plotting Partial Auto-Corelation and Auto-corelation plot\n",
    "\n",
    "# From the below plot I can consider the value of the p (PACF) to be maximum 5 or less than 5. \n",
    "# Rest of the values are significant. so I don't consider\n",
    "# (p <= 5, d = 0, q)\n",
    "\n",
    "# plt.rcParams.update({'figure.figsize':(7, 4), 'figure.dpi': 120})\n",
    "plot_pacf(train['Rainfall'].diff().dropna())"
   ]
  },
  {
   "cell_type": "code",
   "execution_count": 163,
   "metadata": {},
   "outputs": [
    {
     "data": {
      "image/png": "[encoded data removed]",
      "text/plain": [
       "<Figure size 432x288 with 1 Axes>"
      ]
     },
     "execution_count": 163,
     "metadata": {},
     "output_type": "execute_result"
    },
    {
     "data": {
      "image/png": "[encoded data removed]",
      "text/plain": [
       "<Figure size 432x288 with 1 Axes>"
      ]
     },
     "metadata": {},
     "output_type": "display_data"
    }
   ],
   "source": [
    "# q (acf) values can go to maximum 2 or less than 2 by below plot.  \n",
    "# Rest of the values are significant so we don't consider\n",
    "# # (p <= 5, d = 0, q <= 2)\n",
    "\n",
    "plot_acf(train['Rainfall'].diff().dropna())"
   ]
  },
  {
   "cell_type": "code",
   "execution_count": 164,
   "metadata": {},
   "outputs": [
    {
     "data": {
      "text/html": [
       "<table class=\"simpletable\">\n",
       "<caption>SARIMAX Results</caption>\n",
       "<tr>\n",
       "  <th>Dep. Variable:</th>       <td>Rainfall</td>     <th>  No. Observations:  </th>   <td>142163</td>   \n",
       "</tr>\n",
       "<tr>\n",
       "  <th>Model:</th>            <td>ARIMA(5, 0, 2)</td>  <th>  Log Likelihood     </th> <td>-496859.794</td>\n",
       "</tr>\n",
       "<tr>\n",
       "  <th>Date:</th>            <td>Wed, 28 Dec 2022</td> <th>  AIC                </th> <td>993737.587</td> \n",
       "</tr>\n",
       "<tr>\n",
       "  <th>Time:</th>                <td>19:32:25</td>     <th>  BIC                </th> <td>993826.370</td> \n",
       "</tr>\n",
       "<tr>\n",
       "  <th>Sample:</th>                  <td>0</td>        <th>  HQIC               </th> <td>993764.112</td> \n",
       "</tr>\n",
       "<tr>\n",
       "  <th></th>                     <td> - 142163</td>    <th>                     </th>      <td> </td>     \n",
       "</tr>\n",
       "<tr>\n",
       "  <th>Covariance Type:</th>        <td>opg</td>       <th>                     </th>      <td> </td>     \n",
       "</tr>\n",
       "</table>\n",
       "<table class=\"simpletable\">\n",
       "<tr>\n",
       "     <td></td>       <th>coef</th>     <th>std err</th>      <th>z</th>      <th>P>|z|</th>  <th>[0.025</th>    <th>0.975]</th>  \n",
       "</tr>\n",
       "<tr>\n",
       "  <th>const</th>  <td>    2.3500</td> <td>    0.107</td> <td>   22.027</td> <td> 0.000</td> <td>    2.141</td> <td>    2.559</td>\n",
       "</tr>\n",
       "<tr>\n",
       "  <th>ar.L1</th>  <td>    0.3010</td> <td>    0.033</td> <td>    9.168</td> <td> 0.000</td> <td>    0.237</td> <td>    0.365</td>\n",
       "</tr>\n",
       "<tr>\n",
       "  <th>ar.L2</th>  <td>    0.9239</td> <td>    0.041</td> <td>   22.740</td> <td> 0.000</td> <td>    0.844</td> <td>    1.004</td>\n",
       "</tr>\n",
       "<tr>\n",
       "  <th>ar.L3</th>  <td>   -0.2199</td> <td>    0.008</td> <td>  -28.076</td> <td> 0.000</td> <td>   -0.235</td> <td>   -0.205</td>\n",
       "</tr>\n",
       "<tr>\n",
       "  <th>ar.L4</th>  <td>   -0.0185</td> <td>    0.001</td> <td>  -14.086</td> <td> 0.000</td> <td>   -0.021</td> <td>   -0.016</td>\n",
       "</tr>\n",
       "<tr>\n",
       "  <th>ar.L5</th>  <td>   -0.0064</td> <td>    0.002</td> <td>   -4.024</td> <td> 0.000</td> <td>   -0.010</td> <td>   -0.003</td>\n",
       "</tr>\n",
       "<tr>\n",
       "  <th>ma.L1</th>  <td>   -0.0312</td> <td>    0.033</td> <td>   -0.950</td> <td> 0.342</td> <td>   -0.095</td> <td>    0.033</td>\n",
       "</tr>\n",
       "<tr>\n",
       "  <th>ma.L2</th>  <td>   -0.9007</td> <td>    0.032</td> <td>  -28.357</td> <td> 0.000</td> <td>   -0.963</td> <td>   -0.838</td>\n",
       "</tr>\n",
       "<tr>\n",
       "  <th>sigma2</th> <td>   63.5768</td> <td>    0.038</td> <td> 1657.365</td> <td> 0.000</td> <td>   63.502</td> <td>   63.652</td>\n",
       "</tr>\n",
       "</table>\n",
       "<table class=\"simpletable\">\n",
       "<tr>\n",
       "  <th>Ljung-Box (L1) (Q):</th>     <td>0.00</td> <th>  Jarque-Bera (JB):  </th> <td>175536850.15</td>\n",
       "</tr>\n",
       "<tr>\n",
       "  <th>Prob(Q):</th>                <td>0.95</td> <th>  Prob(JB):          </th>     <td>0.00</td>    \n",
       "</tr>\n",
       "<tr>\n",
       "  <th>Heteroskedasticity (H):</th> <td>0.50</td> <th>  Skew:              </th>     <td>9.23</td>    \n",
       "</tr>\n",
       "<tr>\n",
       "  <th>Prob(H) (two-sided):</th>    <td>0.00</td> <th>  Kurtosis:          </th>    <td>174.15</td>   \n",
       "</tr>\n",
       "</table><br/><br/>Warnings:<br/>[1] Covariance matrix calculated using the outer product of gradients (complex-step)."
      ],
      "text/plain": [
       "<class 'statsmodels.iolib.summary.Summary'>\n",
       "\"\"\"\n",
       "                               SARIMAX Results                                \n",
       "==============================================================================\n",
       "Dep. Variable:               Rainfall   No. Observations:               142163\n",
       "Model:                 ARIMA(5, 0, 2)   Log Likelihood             -496859.794\n",
       "Date:                Wed, 28 Dec 2022   AIC                         993737.587\n",
       "Time:                        19:32:25   BIC                         993826.370\n",
       "Sample:                             0   HQIC                        993764.112\n",
       "                             - 142163                                         \n",
       "Covariance Type:                  opg                                         \n",
       "==============================================================================\n",
       "                 coef    std err          z      P>|z|      [0.025      0.975]\n",
       "------------------------------------------------------------------------------\n",
       "const          2.3500      0.107     22.027      0.000       2.141       2.559\n",
       "ar.L1          0.3010      0.033      9.168      0.000       0.237       0.365\n",
       "ar.L2          0.9239      0.041     22.740      0.000       0.844       1.004\n",
       "ar.L3         -0.2199      0.008    -28.076      0.000      -0.235      -0.205\n",
       "ar.L4         -0.0185      0.001    -14.086      0.000      -0.021      -0.016\n",
       "ar.L5         -0.0064      0.002     -4.024      0.000      -0.010      -0.003\n",
       "ma.L1         -0.0312      0.033     -0.950      0.342      -0.095       0.033\n",
       "ma.L2         -0.9007      0.032    -28.357      0.000      -0.963      -0.838\n",
       "sigma2        63.5768      0.038   1657.365      0.000      63.502      63.652\n",
       "===================================================================================\n",
       "Ljung-Box (L1) (Q):                   0.00   Jarque-Bera (JB):         175536850.15\n",
       "Prob(Q):                              0.95   Prob(JB):                         0.00\n",
       "Heteroskedasticity (H):               0.50   Skew:                             9.23\n",
       "Prob(H) (two-sided):                  0.00   Kurtosis:                       174.15\n",
       "===================================================================================\n",
       "\n",
       "Warnings:\n",
       "[1] Covariance matrix calculated using the outer product of gradients (complex-step).\n",
       "\"\"\""
      ]
     },
     "execution_count": 164,
     "metadata": {},
     "output_type": "execute_result"
    }
   ],
   "source": [
    "# I need to check which model fits best\n",
    "\n",
    "# AIC, BIC and HQIC score needs to be low as possible\n",
    "# P>|z| :- Represent significant level. It should be less.\n",
    "\n",
    "# Training an Arima model with order of (Auto-Regressive, Integrated, Moving Average) as\n",
    "# (p, d, q) --> (5, 0, 2)\n",
    "\n",
    "order_1 = (5, 0, 2)\n",
    "\n",
    "model_1 = ARIMA(train[['Rainfall']],order=order_1)\n",
    "model_1 = model_1.fit()\n",
    "model_1.summary()\n"
   ]
  },
  {
   "cell_type": "code",
   "execution_count": 165,
   "metadata": {},
   "outputs": [
    {
     "data": {
      "text/plain": [
       "142163    0.957895\n",
       "142164    1.221011\n",
       "142165    1.299279\n",
       "142166    1.355258\n",
       "142167    1.368862\n",
       "142168    1.396476\n",
       "142169    1.401915\n",
       "142170    1.424539\n",
       "142171    1.429691\n",
       "142172    1.450352\n",
       "142173    1.456077\n",
       "142174    1.475304\n",
       "142175    1.481596\n",
       "142176    1.499581\n",
       "142177    1.506341\n",
       "142178    1.523217\n",
       "142179    1.530347\n",
       "142180    1.546225\n",
       "142181    1.553641\n",
       "142182    1.568621\n",
       "142183    1.576248\n",
       "142184    1.590415\n",
       "142185    1.598193\n",
       "142186    1.611621\n",
       "142187    1.619496\n",
       "142188    1.632252\n",
       "142189    1.640180\n",
       "142190    1.652322\n",
       "142191    1.660265\n",
       "142192    1.671844\n",
       "Name: ARIMA Predictions, dtype: float64"
      ]
     },
     "execution_count": 165,
     "metadata": {},
     "output_type": "execute_result"
    }
   ],
   "source": [
    "# Checking How Good Your Model Is by predicting\n",
    "\n",
    "start=len(train)\n",
    "end=len(train)+len(test)-1\n",
    "pred_1 = model_1.predict(start=start, end=end, typ='levels').rename('ARIMA Predictions')\n",
    "pred_1"
   ]
  },
  {
   "cell_type": "code",
   "execution_count": 166,
   "metadata": {},
   "outputs": [
    {
     "data": {
      "text/plain": [
       "<AxesSubplot:xlabel='Date'>"
      ]
     },
     "execution_count": 166,
     "metadata": {},
     "output_type": "execute_result"
    },
    {
     "data": {
      "image/png": "[encoded data removed]",
      "text/plain": [
       "<Figure size 432x288 with 1 Axes>"
      ]
     },
     "metadata": {},
     "output_type": "display_data"
    }
   ],
   "source": [
    "pred_1.plot(legend=True)\n",
    "test[\"Rainfall\"][500:].plot(legend=True)"
   ]
  },
  {
   "cell_type": "code",
   "execution_count": 167,
   "metadata": {},
   "outputs": [
    {
     "data": {
      "text/plain": [
       "Date\n",
       "2017-05-26    0.957895\n",
       "2017-05-27    1.221011\n",
       "2017-05-28    1.299279\n",
       "2017-05-29    1.355258\n",
       "2017-05-30    1.368862\n",
       "2017-05-31    1.396476\n",
       "2017-06-01    1.401915\n",
       "2017-06-02    1.424539\n",
       "2017-06-03    1.429691\n",
       "2017-06-04    1.450352\n",
       "2017-06-05    1.456077\n",
       "2017-06-06    1.475304\n",
       "2017-06-07    1.481596\n",
       "2017-06-08    1.499581\n",
       "2017-06-09    1.506341\n",
       "2017-06-10    1.523217\n",
       "2017-06-11    1.530347\n",
       "2017-06-12    1.546225\n",
       "2017-06-13    1.553641\n",
       "2017-06-14    1.568621\n",
       "2017-06-15    1.576248\n",
       "2017-06-16    1.590415\n",
       "2017-06-17    1.598193\n",
       "2017-06-18    1.611621\n",
       "2017-06-19    1.619496\n",
       "2017-06-20    1.632252\n",
       "2017-06-21    1.640180\n",
       "2017-06-22    1.652322\n",
       "2017-06-23    1.660265\n",
       "2017-06-24    1.671844\n",
       "Name: ARIMA Predictions, dtype: float64"
      ]
     },
     "execution_count": 167,
     "metadata": {},
     "output_type": "execute_result"
    }
   ],
   "source": [
    "# Adding the date values from df index\n",
    "pred_1.index = df.index[start : end + 1]\n",
    "pred_1"
   ]
  },
  {
   "cell_type": "code",
   "execution_count": 168,
   "metadata": {},
   "outputs": [
    {
     "data": {
      "text/plain": [
       "<matplotlib.legend.Legend at 0x7f2bc2b1d4a8>"
      ]
     },
     "execution_count": 168,
     "metadata": {},
     "output_type": "execute_result"
    },
    {
     "data": {
      "image/png": "[encoded data removed]",
      "text/plain": [
       "<Figure size 720x360 with 1 Axes>"
      ]
     },
     "metadata": {},
     "output_type": "display_data"
    }
   ],
   "source": [
    "plt.figure(figsize=(10, 5))\n",
    "plt.plot(pred_1.values, label=\"Predictions\")\n",
    "plt.plot(test[\"Rainfall\"].values, label=\"Actual values\")\n",
    "plt.legend(loc='best')"
   ]
  },
  {
   "cell_type": "code",
   "execution_count": 169,
   "metadata": {},
   "outputs": [
    {
     "data": {
      "image/png": "[encoded data removed]",
      "text/plain": [
       "<Figure size 1224x360 with 1 Axes>"
      ]
     },
     "metadata": {},
     "output_type": "display_data"
    }
   ],
   "source": [
    "# Visualizing the testing and predicted values for test dataset\n",
    "plt.figure(figsize=(17, 5))\n",
    "plt.grid(True)\n",
    "plt.plot(test.index, test[\"Rainfall\"], label=\"Test\", color=\"blue\")\n",
    "plt.plot(pred_1.index, pred_1.values, label=\"Predicted\", color=\"red\", marker='o')\n",
    "plt.legend()\n",
    "plt.show()"
   ]
  },
  {
   "cell_type": "code",
   "execution_count": 170,
   "metadata": {},
   "outputs": [
    {
     "name": "stdout",
     "output_type": "stream",
     "text": [
      "Root mean square error: 1.4905759675572268\n",
      "Mean Absolute Error: 1.4766355548156271\n"
     ]
    }
   ],
   "source": [
    "test['Rainfall'].mean()\n",
    "rmse=sqrt(mean_squared_error(pred_1, test['Rainfall']))\n",
    "print(f\"Root mean square error: {rmse}\")\n",
    "mae = mean_absolute_error(pred_1, test['Rainfall'])\n",
    "print(f\"Mean Absolute Error: {mae}\")"
   ]
  },
  {
   "cell_type": "markdown",
   "metadata": {},
   "source": [
    "### Creating model and testing - 2"
   ]
  },
  {
   "cell_type": "markdown",
   "metadata": {},
   "source": [
    "## 4 - Model Development - Building the model with the right selection of the parameters"
   ]
  },
  {
   "cell_type": "code",
   "execution_count": 171,
   "metadata": {},
   "outputs": [
    {
     "name": "stdout",
     "output_type": "stream",
     "text": [
      "(142193, 23)\n",
      "(142163, 23) (30, 23)\n"
     ]
    }
   ],
   "source": [
    "# Spliting the data into test and train.\n",
    "\n",
    "print(df.shape)\n",
    "train=df.iloc[:-30]\n",
    "test=df.iloc[-30:]\n",
    "print(train.shape,test.shape)"
   ]
  },
  {
   "cell_type": "code",
   "execution_count": 172,
   "metadata": {},
   "outputs": [
    {
     "data": {
      "image/png": "[encoded data removed]",
      "text/plain": [
       "<Figure size 1224x360 with 1 Axes>"
      ]
     },
     "metadata": {},
     "output_type": "display_data"
    }
   ],
   "source": [
    "# Visualizing the trainig and testing datasets\n",
    "\n",
    "plt.figure(figsize=(17, 5))\n",
    "plt.grid(True)\n",
    "plt.plot(train.index[-50:], train[\"Rainfall\"][-50:], label=\"Train\", color='green')\n",
    "plt.plot(test.index, test[\"Rainfall\"], label=\"Test\", color=\"blue\")\n",
    "plt.legend()\n",
    "plt.show()"
   ]
  },
  {
   "cell_type": "code",
   "execution_count": 173,
   "metadata": {},
   "outputs": [
    {
     "data": {
      "text/html": [
       "<table class=\"simpletable\">\n",
       "<caption>SARIMAX Results</caption>\n",
       "<tr>\n",
       "  <th>Dep. Variable:</th>       <td>Rainfall</td>     <th>  No. Observations:  </th>   <td>142163</td>   \n",
       "</tr>\n",
       "<tr>\n",
       "  <th>Model:</th>            <td>ARIMA(2, 1, 4)</td>  <th>  Log Likelihood     </th> <td>-497156.936</td>\n",
       "</tr>\n",
       "<tr>\n",
       "  <th>Date:</th>            <td>Wed, 28 Dec 2022</td> <th>  AIC                </th> <td>994327.873</td> \n",
       "</tr>\n",
       "<tr>\n",
       "  <th>Time:</th>                <td>19:33:40</td>     <th>  BIC                </th> <td>994396.926</td> \n",
       "</tr>\n",
       "<tr>\n",
       "  <th>Sample:</th>                  <td>0</td>        <th>  HQIC               </th> <td>994348.503</td> \n",
       "</tr>\n",
       "<tr>\n",
       "  <th></th>                     <td> - 142163</td>    <th>                     </th>      <td> </td>     \n",
       "</tr>\n",
       "<tr>\n",
       "  <th>Covariance Type:</th>        <td>opg</td>       <th>                     </th>      <td> </td>     \n",
       "</tr>\n",
       "</table>\n",
       "<table class=\"simpletable\">\n",
       "<tr>\n",
       "     <td></td>       <th>coef</th>     <th>std err</th>      <th>z</th>      <th>P>|z|</th>  <th>[0.025</th>    <th>0.975]</th>  \n",
       "</tr>\n",
       "<tr>\n",
       "  <th>ar.L1</th>  <td>   -0.4340</td> <td>    0.026</td> <td>  -16.597</td> <td> 0.000</td> <td>   -0.485</td> <td>   -0.383</td>\n",
       "</tr>\n",
       "<tr>\n",
       "  <th>ar.L2</th>  <td>    0.5122</td> <td>    0.019</td> <td>   27.576</td> <td> 0.000</td> <td>    0.476</td> <td>    0.549</td>\n",
       "</tr>\n",
       "<tr>\n",
       "  <th>ma.L1</th>  <td>   -0.2920</td> <td>    0.026</td> <td>  -11.154</td> <td> 0.000</td> <td>   -0.343</td> <td>   -0.241</td>\n",
       "</tr>\n",
       "<tr>\n",
       "  <th>ma.L2</th>  <td>   -0.9925</td> <td>    0.033</td> <td>  -30.144</td> <td> 0.000</td> <td>   -1.057</td> <td>   -0.928</td>\n",
       "</tr>\n",
       "<tr>\n",
       "  <th>ma.L3</th>  <td>    0.2614</td> <td>    0.012</td> <td>   21.426</td> <td> 0.000</td> <td>    0.237</td> <td>    0.285</td>\n",
       "</tr>\n",
       "<tr>\n",
       "  <th>ma.L4</th>  <td>    0.0443</td> <td>    0.004</td> <td>   11.820</td> <td> 0.000</td> <td>    0.037</td> <td>    0.052</td>\n",
       "</tr>\n",
       "<tr>\n",
       "  <th>sigma2</th> <td>   63.8374</td> <td>    0.030</td> <td> 2105.982</td> <td> 0.000</td> <td>   63.778</td> <td>   63.897</td>\n",
       "</tr>\n",
       "</table>\n",
       "<table class=\"simpletable\">\n",
       "<tr>\n",
       "  <th>Ljung-Box (L1) (Q):</th>     <td>0.00</td> <th>  Jarque-Bera (JB):  </th> <td>167520103.73</td>\n",
       "</tr>\n",
       "<tr>\n",
       "  <th>Prob(Q):</th>                <td>0.96</td> <th>  Prob(JB):          </th>     <td>0.00</td>    \n",
       "</tr>\n",
       "<tr>\n",
       "  <th>Heteroskedasticity (H):</th> <td>0.51</td> <th>  Skew:              </th>     <td>9.02</td>    \n",
       "</tr>\n",
       "<tr>\n",
       "  <th>Prob(H) (two-sided):</th>    <td>0.00</td> <th>  Kurtosis:          </th>    <td>170.20</td>   \n",
       "</tr>\n",
       "</table><br/><br/>Warnings:<br/>[1] Covariance matrix calculated using the outer product of gradients (complex-step)."
      ],
      "text/plain": [
       "<class 'statsmodels.iolib.summary.Summary'>\n",
       "\"\"\"\n",
       "                               SARIMAX Results                                \n",
       "==============================================================================\n",
       "Dep. Variable:               Rainfall   No. Observations:               142163\n",
       "Model:                 ARIMA(2, 1, 4)   Log Likelihood             -497156.936\n",
       "Date:                Wed, 28 Dec 2022   AIC                         994327.873\n",
       "Time:                        19:33:40   BIC                         994396.926\n",
       "Sample:                             0   HQIC                        994348.503\n",
       "                             - 142163                                         \n",
       "Covariance Type:                  opg                                         \n",
       "==============================================================================\n",
       "                 coef    std err          z      P>|z|      [0.025      0.975]\n",
       "------------------------------------------------------------------------------\n",
       "ar.L1         -0.4340      0.026    -16.597      0.000      -0.485      -0.383\n",
       "ar.L2          0.5122      0.019     27.576      0.000       0.476       0.549\n",
       "ma.L1         -0.2920      0.026    -11.154      0.000      -0.343      -0.241\n",
       "ma.L2         -0.9925      0.033    -30.144      0.000      -1.057      -0.928\n",
       "ma.L3          0.2614      0.012     21.426      0.000       0.237       0.285\n",
       "ma.L4          0.0443      0.004     11.820      0.000       0.037       0.052\n",
       "sigma2        63.8374      0.030   2105.982      0.000      63.778      63.897\n",
       "===================================================================================\n",
       "Ljung-Box (L1) (Q):                   0.00   Jarque-Bera (JB):         167520103.73\n",
       "Prob(Q):                              0.96   Prob(JB):                         0.00\n",
       "Heteroskedasticity (H):               0.51   Skew:                             9.02\n",
       "Prob(H) (two-sided):                  0.00   Kurtosis:                       170.20\n",
       "===================================================================================\n",
       "\n",
       "Warnings:\n",
       "[1] Covariance matrix calculated using the outer product of gradients (complex-step).\n",
       "\"\"\""
      ]
     },
     "execution_count": 173,
     "metadata": {},
     "output_type": "execute_result"
    }
   ],
   "source": [
    "# Creating the ARIMA model for order (2, 1, 4) and testing other orders\n",
    "\n",
    "model_2 = ARIMA(train['Rainfall'], order=(2,1,4)) # (3, 1, 5) # (6, 1, 5)\n",
    "model_2 = model_2.fit()\n",
    "model_2.summary()"
   ]
  },
  {
   "cell_type": "markdown",
   "metadata": {},
   "source": [
    "## 5 - Model Tuning - Improving the model performance by tuning the hyper parameters"
   ]
  },
  {
   "cell_type": "code",
   "execution_count": 174,
   "metadata": {},
   "outputs": [
    {
     "data": {
      "text/html": [
       "<table class=\"simpletable\">\n",
       "<caption>SARIMAX Results</caption>\n",
       "<tr>\n",
       "  <th>Dep. Variable:</th>       <td>Rainfall</td>     <th>  No. Observations:  </th>   <td>142163</td>   \n",
       "</tr>\n",
       "<tr>\n",
       "  <th>Model:</th>            <td>ARIMA(2, 1, 4)</td>  <th>  Log Likelihood     </th> <td>-497157.105</td>\n",
       "</tr>\n",
       "<tr>\n",
       "  <th>Date:</th>            <td>Wed, 28 Dec 2022</td> <th>  AIC                </th> <td>994328.210</td> \n",
       "</tr>\n",
       "<tr>\n",
       "  <th>Time:</th>                <td>19:34:43</td>     <th>  BIC                </th> <td>994397.263</td> \n",
       "</tr>\n",
       "<tr>\n",
       "  <th>Sample:</th>                  <td>0</td>        <th>  HQIC               </th> <td>994348.840</td> \n",
       "</tr>\n",
       "<tr>\n",
       "  <th></th>                     <td> - 142163</td>    <th>  Scale              </th>   <td>63.837</td>   \n",
       "</tr>\n",
       "<tr>\n",
       "  <th>Covariance Type:</th>        <td>opg</td>       <th>                     </th>      <td> </td>     \n",
       "</tr>\n",
       "</table>\n",
       "<table class=\"simpletable\">\n",
       "<tr>\n",
       "    <td></td>       <th>coef</th>     <th>std err</th>      <th>z</th>      <th>P>|z|</th>  <th>[0.025</th>    <th>0.975]</th>  \n",
       "</tr>\n",
       "<tr>\n",
       "  <th>ar.L1</th> <td>   -0.4389</td> <td>    0.024</td> <td>  -18.432</td> <td> 0.000</td> <td>   -0.486</td> <td>   -0.392</td>\n",
       "</tr>\n",
       "<tr>\n",
       "  <th>ar.L2</th> <td>    0.5161</td> <td>    0.017</td> <td>   30.222</td> <td> 0.000</td> <td>    0.483</td> <td>    0.550</td>\n",
       "</tr>\n",
       "<tr>\n",
       "  <th>ma.L1</th> <td>   -0.2871</td> <td>    0.024</td> <td>  -12.043</td> <td> 0.000</td> <td>   -0.334</td> <td>   -0.240</td>\n",
       "</tr>\n",
       "<tr>\n",
       "  <th>ma.L2</th> <td>   -0.9999</td> <td>    0.029</td> <td>  -34.139</td> <td> 0.000</td> <td>   -1.057</td> <td>   -0.943</td>\n",
       "</tr>\n",
       "<tr>\n",
       "  <th>ma.L3</th> <td>    0.2633</td> <td>    0.012</td> <td>   22.536</td> <td> 0.000</td> <td>    0.240</td> <td>    0.286</td>\n",
       "</tr>\n",
       "<tr>\n",
       "  <th>ma.L4</th> <td>    0.0450</td> <td>    0.004</td> <td>   12.518</td> <td> 0.000</td> <td>    0.038</td> <td>    0.052</td>\n",
       "</tr>\n",
       "</table>\n",
       "<table class=\"simpletable\">\n",
       "<tr>\n",
       "  <th>Ljung-Box (L1) (Q):</th>     <td>0.00</td> <th>  Jarque-Bera (JB):  </th> <td>167511921.21</td>\n",
       "</tr>\n",
       "<tr>\n",
       "  <th>Prob(Q):</th>                <td>0.97</td> <th>  Prob(JB):          </th>     <td>0.00</td>    \n",
       "</tr>\n",
       "<tr>\n",
       "  <th>Heteroskedasticity (H):</th> <td>0.51</td> <th>  Skew:              </th>     <td>9.02</td>    \n",
       "</tr>\n",
       "<tr>\n",
       "  <th>Prob(H) (two-sided):</th>    <td>0.00</td> <th>  Kurtosis:          </th>    <td>170.19</td>   \n",
       "</tr>\n",
       "</table><br/><br/>Warnings:<br/>[1] Covariance matrix calculated using the outer product of gradients (complex-step)."
      ],
      "text/plain": [
       "<class 'statsmodels.iolib.summary.Summary'>\n",
       "\"\"\"\n",
       "                               SARIMAX Results                                \n",
       "==============================================================================\n",
       "Dep. Variable:               Rainfall   No. Observations:               142163\n",
       "Model:                 ARIMA(2, 1, 4)   Log Likelihood             -497157.105\n",
       "Date:                Wed, 28 Dec 2022   AIC                         994328.210\n",
       "Time:                        19:34:43   BIC                         994397.263\n",
       "Sample:                             0   HQIC                        994348.840\n",
       "                             - 142163   Scale                           63.837\n",
       "Covariance Type:                  opg                                         \n",
       "==============================================================================\n",
       "                 coef    std err          z      P>|z|      [0.025      0.975]\n",
       "------------------------------------------------------------------------------\n",
       "ar.L1         -0.4389      0.024    -18.432      0.000      -0.486      -0.392\n",
       "ar.L2          0.5161      0.017     30.222      0.000       0.483       0.550\n",
       "ma.L1         -0.2871      0.024    -12.043      0.000      -0.334      -0.240\n",
       "ma.L2         -0.9999      0.029    -34.139      0.000      -1.057      -0.943\n",
       "ma.L3          0.2633      0.012     22.536      0.000       0.240       0.286\n",
       "ma.L4          0.0450      0.004     12.518      0.000       0.038       0.052\n",
       "===================================================================================\n",
       "Ljung-Box (L1) (Q):                   0.00   Jarque-Bera (JB):         167511921.21\n",
       "Prob(Q):                              0.97   Prob(JB):                         0.00\n",
       "Heteroskedasticity (H):               0.51   Skew:                             9.02\n",
       "Prob(H) (two-sided):                  0.00   Kurtosis:                       170.19\n",
       "===================================================================================\n",
       "\n",
       "Warnings:\n",
       "[1] Covariance matrix calculated using the outer product of gradients (complex-step).\n",
       "\"\"\""
      ]
     },
     "execution_count": 174,
     "metadata": {},
     "output_type": "execute_result"
    }
   ],
   "source": [
    "# enforce_stationarity : bool, optional\n",
    "#         Whether or not to require the autoregressive parameters to correspond\n",
    "#         to a stationarity process.\n",
    "        \n",
    "# enforce_invertibility : bool, optional\n",
    "#         Whether or not to require the moving average parameters to correspond\n",
    "#         to an invertible process.\n",
    "        \n",
    "# concentrate_scale : bool, optional\n",
    "#         Whether or not to concentrate the scale (variance of the error term)\n",
    "#         out of the likelihood. This reduces the number of parameters by one.\n",
    "#         This is only applicable when considering estimation by numerical\n",
    "#         maximum likelihood.\n",
    "\n",
    "# missing : str\n",
    "#         Available options are 'none', 'drop', and 'raise'. If 'none', no nan\n",
    "#         checking is done. If 'drop', any observations with nans are dropped.\n",
    "#         If 'raise', an error is raised. Default is 'none'.\n",
    "        \n",
    "model_2 = ARIMA(train['Rainfall'], order=(2,1,4), enforce_stationarity = True, enforce_invertibility=True, concentrate_scale=True, missing='raise') # (3, 1, 5) # (4, 2, 3)\n",
    "model_2 = model_2.fit()\n",
    "model_2.summary()\n",
    "\n",
    "# After hyperparameter tuning the ARIMA model performance slightly increased."
   ]
  },
  {
   "cell_type": "markdown",
   "metadata": {},
   "source": [
    "## 6 - Model Evaluation - Testing the model on sufficient sample for correctness"
   ]
  },
  {
   "cell_type": "code",
   "execution_count": 175,
   "metadata": {},
   "outputs": [
    {
     "data": {
      "text/plain": [
       "<AxesSubplot:xlabel='Date'>"
      ]
     },
     "execution_count": 175,
     "metadata": {},
     "output_type": "execute_result"
    },
    {
     "data": {
      "image/png": "[encoded data removed]",
      "text/plain": [
       "<Figure size 432x288 with 1 Axes>"
      ]
     },
     "metadata": {},
     "output_type": "display_data"
    }
   ],
   "source": [
    "# Check How Good Your Model Is by predicting\n",
    "start=len(train)\n",
    "end=len(train)+len(test)-1\n",
    "pred_2 = model_2.predict(start=start,end=end,typ='levels').rename('ARIMA Predictions')\n",
    "pred_2[-50:].plot(legend=True)\n",
    "test['Rainfall'][50:].plot(legend=True)"
   ]
  },
  {
   "cell_type": "code",
   "execution_count": 176,
   "metadata": {},
   "outputs": [
    {
     "data": {
      "text/plain": [
       "<matplotlib.legend.Legend at 0x7f2beed2a160>"
      ]
     },
     "execution_count": 176,
     "metadata": {},
     "output_type": "execute_result"
    },
    {
     "data": {
      "image/png": "[encoded data removed]",
      "text/plain": [
       "<Figure size 720x360 with 1 Axes>"
      ]
     },
     "metadata": {},
     "output_type": "display_data"
    }
   ],
   "source": [
    "plt.figure(figsize=(10, 5))\n",
    "plt.plot(pred_2.values, label=\"Predictions\")\n",
    "plt.plot(test[\"Rainfall\"].values, label=\"Actual values\")\n",
    "plt.legend(loc='best')"
   ]
  },
  {
   "cell_type": "code",
   "execution_count": 177,
   "metadata": {},
   "outputs": [
    {
     "name": "stdout",
     "output_type": "stream",
     "text": [
      "Root mean square error: 1.0174400491369107\n",
      "Mean Absolute Error: 1.0087237699400742\n"
     ]
    }
   ],
   "source": [
    "# Check your Accuracy Metric\n",
    "\n",
    "test['Rainfall'].mean()\n",
    "rmse=sqrt(mean_squared_error(pred_2, test['Rainfall']))\n",
    "print(f\"Root mean square error: {rmse}\")\n",
    "mae = mean_absolute_error(pred_2, test['Rainfall'])\n",
    "print(f\"Mean Absolute Error: {mae}\")"
   ]
  },
  {
   "cell_type": "code",
   "execution_count": 178,
   "metadata": {},
   "outputs": [
    {
     "data": {
      "text/html": [
       "<div>\n",
       "<style scoped>\n",
       "    .dataframe tbody tr th:only-of-type {\n",
       "        vertical-align: middle;\n",
       "    }\n",
       "\n",
       "    .dataframe tbody tr th {\n",
       "        vertical-align: top;\n",
       "    }\n",
       "\n",
       "    .dataframe thead th {\n",
       "        text-align: right;\n",
       "    }\n",
       "</style>\n",
       "<table border=\"1\" class=\"dataframe\">\n",
       "  <thead>\n",
       "    <tr style=\"text-align: right;\">\n",
       "      <th></th>\n",
       "      <th>Location</th>\n",
       "      <th>MinTemp</th>\n",
       "      <th>MaxTemp</th>\n",
       "      <th>Rainfall</th>\n",
       "      <th>Evaporation</th>\n",
       "      <th>Sunshine</th>\n",
       "      <th>WindGustDir</th>\n",
       "      <th>WindGustSpeed</th>\n",
       "      <th>WindDir9am</th>\n",
       "      <th>WindDir3pm</th>\n",
       "      <th>...</th>\n",
       "      <th>Humidity3pm</th>\n",
       "      <th>Pressure9am</th>\n",
       "      <th>Pressure3pm</th>\n",
       "      <th>Cloud9am</th>\n",
       "      <th>Cloud3pm</th>\n",
       "      <th>Temp9am</th>\n",
       "      <th>Temp3pm</th>\n",
       "      <th>RainToday</th>\n",
       "      <th>RISK_MM</th>\n",
       "      <th>RainTomorrow</th>\n",
       "    </tr>\n",
       "    <tr>\n",
       "      <th>Date</th>\n",
       "      <th></th>\n",
       "      <th></th>\n",
       "      <th></th>\n",
       "      <th></th>\n",
       "      <th></th>\n",
       "      <th></th>\n",
       "      <th></th>\n",
       "      <th></th>\n",
       "      <th></th>\n",
       "      <th></th>\n",
       "      <th></th>\n",
       "      <th></th>\n",
       "      <th></th>\n",
       "      <th></th>\n",
       "      <th></th>\n",
       "      <th></th>\n",
       "      <th></th>\n",
       "      <th></th>\n",
       "      <th></th>\n",
       "      <th></th>\n",
       "      <th></th>\n",
       "    </tr>\n",
       "  </thead>\n",
       "  <tbody>\n",
       "    <tr>\n",
       "      <th>2017-06-20</th>\n",
       "      <td>41</td>\n",
       "      <td>3.5</td>\n",
       "      <td>21.8</td>\n",
       "      <td>0.0</td>\n",
       "      <td>5.469824</td>\n",
       "      <td>7.624853</td>\n",
       "      <td>0</td>\n",
       "      <td>31.0</td>\n",
       "      <td>2</td>\n",
       "      <td>0</td>\n",
       "      <td>...</td>\n",
       "      <td>27.0</td>\n",
       "      <td>1024.7</td>\n",
       "      <td>1021.2</td>\n",
       "      <td>4.437189</td>\n",
       "      <td>4.503167</td>\n",
       "      <td>9.4</td>\n",
       "      <td>20.9</td>\n",
       "      <td>0</td>\n",
       "      <td>0.0</td>\n",
       "      <td>0</td>\n",
       "    </tr>\n",
       "    <tr>\n",
       "      <th>2017-06-21</th>\n",
       "      <td>41</td>\n",
       "      <td>2.8</td>\n",
       "      <td>23.4</td>\n",
       "      <td>0.0</td>\n",
       "      <td>5.469824</td>\n",
       "      <td>7.624853</td>\n",
       "      <td>0</td>\n",
       "      <td>31.0</td>\n",
       "      <td>9</td>\n",
       "      <td>1</td>\n",
       "      <td>...</td>\n",
       "      <td>24.0</td>\n",
       "      <td>1024.6</td>\n",
       "      <td>1020.3</td>\n",
       "      <td>4.437189</td>\n",
       "      <td>4.503167</td>\n",
       "      <td>10.1</td>\n",
       "      <td>22.4</td>\n",
       "      <td>0</td>\n",
       "      <td>0.0</td>\n",
       "      <td>0</td>\n",
       "    </tr>\n",
       "    <tr>\n",
       "      <th>2017-06-22</th>\n",
       "      <td>41</td>\n",
       "      <td>3.6</td>\n",
       "      <td>25.3</td>\n",
       "      <td>0.0</td>\n",
       "      <td>5.469824</td>\n",
       "      <td>7.624853</td>\n",
       "      <td>6</td>\n",
       "      <td>22.0</td>\n",
       "      <td>9</td>\n",
       "      <td>3</td>\n",
       "      <td>...</td>\n",
       "      <td>21.0</td>\n",
       "      <td>1023.5</td>\n",
       "      <td>1019.1</td>\n",
       "      <td>4.437189</td>\n",
       "      <td>4.503167</td>\n",
       "      <td>10.9</td>\n",
       "      <td>24.5</td>\n",
       "      <td>0</td>\n",
       "      <td>0.0</td>\n",
       "      <td>0</td>\n",
       "    </tr>\n",
       "    <tr>\n",
       "      <th>2017-06-23</th>\n",
       "      <td>41</td>\n",
       "      <td>5.4</td>\n",
       "      <td>26.9</td>\n",
       "      <td>0.0</td>\n",
       "      <td>5.469824</td>\n",
       "      <td>7.624853</td>\n",
       "      <td>3</td>\n",
       "      <td>37.0</td>\n",
       "      <td>9</td>\n",
       "      <td>14</td>\n",
       "      <td>...</td>\n",
       "      <td>24.0</td>\n",
       "      <td>1021.0</td>\n",
       "      <td>1016.8</td>\n",
       "      <td>4.437189</td>\n",
       "      <td>4.503167</td>\n",
       "      <td>12.5</td>\n",
       "      <td>26.1</td>\n",
       "      <td>0</td>\n",
       "      <td>0.0</td>\n",
       "      <td>0</td>\n",
       "    </tr>\n",
       "    <tr>\n",
       "      <th>2017-06-24</th>\n",
       "      <td>41</td>\n",
       "      <td>7.8</td>\n",
       "      <td>27.0</td>\n",
       "      <td>0.0</td>\n",
       "      <td>5.469824</td>\n",
       "      <td>7.624853</td>\n",
       "      <td>9</td>\n",
       "      <td>28.0</td>\n",
       "      <td>10</td>\n",
       "      <td>3</td>\n",
       "      <td>...</td>\n",
       "      <td>24.0</td>\n",
       "      <td>1019.4</td>\n",
       "      <td>1016.5</td>\n",
       "      <td>3.000000</td>\n",
       "      <td>2.000000</td>\n",
       "      <td>15.1</td>\n",
       "      <td>26.0</td>\n",
       "      <td>0</td>\n",
       "      <td>0.0</td>\n",
       "      <td>0</td>\n",
       "    </tr>\n",
       "  </tbody>\n",
       "</table>\n",
       "<p>5 rows × 23 columns</p>\n",
       "</div>"
      ],
      "text/plain": [
       "            Location  MinTemp  MaxTemp  Rainfall  Evaporation  Sunshine  \\\n",
       "Date                                                                      \n",
       "2017-06-20        41      3.5     21.8       0.0     5.469824  7.624853   \n",
       "2017-06-21        41      2.8     23.4       0.0     5.469824  7.624853   \n",
       "2017-06-22        41      3.6     25.3       0.0     5.469824  7.624853   \n",
       "2017-06-23        41      5.4     26.9       0.0     5.469824  7.624853   \n",
       "2017-06-24        41      7.8     27.0       0.0     5.469824  7.624853   \n",
       "\n",
       "            WindGustDir  WindGustSpeed  WindDir9am  WindDir3pm  ...  \\\n",
       "Date                                                            ...   \n",
       "2017-06-20            0           31.0           2           0  ...   \n",
       "2017-06-21            0           31.0           9           1  ...   \n",
       "2017-06-22            6           22.0           9           3  ...   \n",
       "2017-06-23            3           37.0           9          14  ...   \n",
       "2017-06-24            9           28.0          10           3  ...   \n",
       "\n",
       "            Humidity3pm  Pressure9am  Pressure3pm  Cloud9am  Cloud3pm  \\\n",
       "Date                                                                    \n",
       "2017-06-20         27.0       1024.7       1021.2  4.437189  4.503167   \n",
       "2017-06-21         24.0       1024.6       1020.3  4.437189  4.503167   \n",
       "2017-06-22         21.0       1023.5       1019.1  4.437189  4.503167   \n",
       "2017-06-23         24.0       1021.0       1016.8  4.437189  4.503167   \n",
       "2017-06-24         24.0       1019.4       1016.5  3.000000  2.000000   \n",
       "\n",
       "            Temp9am  Temp3pm  RainToday  RISK_MM  RainTomorrow  \n",
       "Date                                                            \n",
       "2017-06-20      9.4     20.9          0      0.0             0  \n",
       "2017-06-21     10.1     22.4          0      0.0             0  \n",
       "2017-06-22     10.9     24.5          0      0.0             0  \n",
       "2017-06-23     12.5     26.1          0      0.0             0  \n",
       "2017-06-24     15.1     26.0          0      0.0             0  \n",
       "\n",
       "[5 rows x 23 columns]"
      ]
     },
     "execution_count": 178,
     "metadata": {},
     "output_type": "execute_result"
    }
   ],
   "source": [
    "df.tail() # Checking at what date my dataset ends"
   ]
  },
  {
   "cell_type": "code",
   "execution_count": 179,
   "metadata": {},
   "outputs": [
    {
     "data": {
      "text/plain": [
       "2017-06-24    1.039239\n",
       "2017-06-25    1.046324\n",
       "Freq: D, Name: ARIMA Predictions, dtype: float64"
      ]
     },
     "execution_count": 179,
     "metadata": {},
     "output_type": "execute_result"
    }
   ],
   "source": [
    "# Making prediction for the next 1 day\n",
    "\n",
    "index_future_dates = pd.date_range(start='2017-06-24', end='2017-06-25')\n",
    "pred_2 = model_2.predict(start=len(df), end=len(df)+1, typ='levels').rename(\"ARIMA Predictions\")\n",
    "pred_2.index = index_future_dates\n",
    "pred_2"
   ]
  },
  {
   "cell_type": "code",
   "execution_count": 180,
   "metadata": {},
   "outputs": [
    {
     "data": {
      "text/plain": [
       "<AxesSubplot:>"
      ]
     },
     "execution_count": 180,
     "metadata": {},
     "output_type": "execute_result"
    },
    {
     "data": {
      "image/png": "[encoded data removed]",
      "text/plain": [
       "<Figure size 864x360 with 1 Axes>"
      ]
     },
     "metadata": {},
     "output_type": "display_data"
    }
   ],
   "source": [
    "pred_2.plot(figsize=(12, 5), legend=True)"
   ]
  },
  {
   "cell_type": "code",
   "execution_count": 181,
   "metadata": {},
   "outputs": [
    {
     "data": {
      "text/plain": [
       "2017-06-24    1.039239\n",
       "2017-06-25    1.046324\n",
       "Freq: D, Name: ARIMA Predictions, dtype: float64"
      ]
     },
     "execution_count": 181,
     "metadata": {},
     "output_type": "execute_result"
    }
   ],
   "source": [
    "pred_2"
   ]
  },
  {
   "cell_type": "code",
   "execution_count": 182,
   "metadata": {},
   "outputs": [
    {
     "data": {
      "image/png": "[encoded data removed]",
      "text/plain": [
       "<Figure size 1224x360 with 1 Axes>"
      ]
     },
     "metadata": {},
     "output_type": "display_data"
    }
   ],
   "source": [
    "# Visualizing the testing and predicted values for test dataset\n",
    "plt.figure(figsize=(17, 5))\n",
    "plt.grid(True)\n",
    "plt.plot(test.index, test[\"Rainfall\"], label=\"Test data values\", color=\"blue\")\n",
    "plt.plot(pred_1.index, pred_1.values, label=\"Prediction 1\", marker='o', color='red')\n",
    "plt.plot(pred_2.index, pred_2.values, label=\"Predicted 2\", color=\"black\", marker='o')\n",
    "plt.legend()\n",
    "plt.show()"
   ]
  },
  {
   "cell_type": "markdown",
   "metadata": {},
   "source": [
    "### Now creating final model"
   ]
  },
  {
   "cell_type": "code",
   "execution_count": 183,
   "metadata": {},
   "outputs": [
    {
     "data": {
      "text/html": [
       "<table class=\"simpletable\">\n",
       "<caption>SARIMAX Results</caption>\n",
       "<tr>\n",
       "  <th>Dep. Variable:</th>       <td>Rainfall</td>     <th>  No. Observations:  </th>   <td>142193</td>   \n",
       "</tr>\n",
       "<tr>\n",
       "  <th>Model:</th>            <td>ARIMA(2, 1, 4)</td>  <th>  Log Likelihood     </th> <td>-497246.927</td>\n",
       "</tr>\n",
       "<tr>\n",
       "  <th>Date:</th>            <td>Wed, 28 Dec 2022</td> <th>  AIC                </th> <td>994507.853</td> \n",
       "</tr>\n",
       "<tr>\n",
       "  <th>Time:</th>                <td>19:35:58</td>     <th>  BIC                </th> <td>994576.908</td> \n",
       "</tr>\n",
       "<tr>\n",
       "  <th>Sample:</th>                  <td>0</td>        <th>  HQIC               </th> <td>994528.483</td> \n",
       "</tr>\n",
       "<tr>\n",
       "  <th></th>                     <td> - 142193</td>    <th>                     </th>      <td> </td>     \n",
       "</tr>\n",
       "<tr>\n",
       "  <th>Covariance Type:</th>        <td>opg</td>       <th>                     </th>      <td> </td>     \n",
       "</tr>\n",
       "</table>\n",
       "<table class=\"simpletable\">\n",
       "<tr>\n",
       "     <td></td>       <th>coef</th>     <th>std err</th>      <th>z</th>      <th>P>|z|</th>  <th>[0.025</th>    <th>0.975]</th>  \n",
       "</tr>\n",
       "<tr>\n",
       "  <th>ar.L1</th>  <td>   -0.4342</td> <td>    0.026</td> <td>  -16.591</td> <td> 0.000</td> <td>   -0.486</td> <td>   -0.383</td>\n",
       "</tr>\n",
       "<tr>\n",
       "  <th>ar.L2</th>  <td>    0.5120</td> <td>    0.019</td> <td>   27.553</td> <td> 0.000</td> <td>    0.476</td> <td>    0.548</td>\n",
       "</tr>\n",
       "<tr>\n",
       "  <th>ma.L1</th>  <td>   -0.2918</td> <td>    0.026</td> <td>  -11.140</td> <td> 0.000</td> <td>   -0.343</td> <td>   -0.240</td>\n",
       "</tr>\n",
       "<tr>\n",
       "  <th>ma.L2</th>  <td>   -0.9924</td> <td>    0.033</td> <td>  -30.119</td> <td> 0.000</td> <td>   -1.057</td> <td>   -0.928</td>\n",
       "</tr>\n",
       "<tr>\n",
       "  <th>ma.L3</th>  <td>    0.2612</td> <td>    0.012</td> <td>   21.405</td> <td> 0.000</td> <td>    0.237</td> <td>    0.285</td>\n",
       "</tr>\n",
       "<tr>\n",
       "  <th>ma.L4</th>  <td>    0.0443</td> <td>    0.004</td> <td>   11.806</td> <td> 0.000</td> <td>    0.037</td> <td>    0.052</td>\n",
       "</tr>\n",
       "<tr>\n",
       "  <th>sigma2</th> <td>   63.8237</td> <td>    0.030</td> <td> 2106.427</td> <td> 0.000</td> <td>   63.764</td> <td>   63.883</td>\n",
       "</tr>\n",
       "</table>\n",
       "<table class=\"simpletable\">\n",
       "<tr>\n",
       "  <th>Ljung-Box (L1) (Q):</th>     <td>0.00</td> <th>  Jarque-Bera (JB):  </th> <td>167625989.35</td>\n",
       "</tr>\n",
       "<tr>\n",
       "  <th>Prob(Q):</th>                <td>0.95</td> <th>  Prob(JB):          </th>     <td>0.00</td>    \n",
       "</tr>\n",
       "<tr>\n",
       "  <th>Heteroskedasticity (H):</th> <td>0.51</td> <th>  Skew:              </th>     <td>9.02</td>    \n",
       "</tr>\n",
       "<tr>\n",
       "  <th>Prob(H) (two-sided):</th>    <td>0.00</td> <th>  Kurtosis:          </th>    <td>170.23</td>   \n",
       "</tr>\n",
       "</table><br/><br/>Warnings:<br/>[1] Covariance matrix calculated using the outer product of gradients (complex-step)."
      ],
      "text/plain": [
       "<class 'statsmodels.iolib.summary.Summary'>\n",
       "\"\"\"\n",
       "                               SARIMAX Results                                \n",
       "==============================================================================\n",
       "Dep. Variable:               Rainfall   No. Observations:               142193\n",
       "Model:                 ARIMA(2, 1, 4)   Log Likelihood             -497246.927\n",
       "Date:                Wed, 28 Dec 2022   AIC                         994507.853\n",
       "Time:                        19:35:58   BIC                         994576.908\n",
       "Sample:                             0   HQIC                        994528.483\n",
       "                             - 142193                                         \n",
       "Covariance Type:                  opg                                         \n",
       "==============================================================================\n",
       "                 coef    std err          z      P>|z|      [0.025      0.975]\n",
       "------------------------------------------------------------------------------\n",
       "ar.L1         -0.4342      0.026    -16.591      0.000      -0.486      -0.383\n",
       "ar.L2          0.5120      0.019     27.553      0.000       0.476       0.548\n",
       "ma.L1         -0.2918      0.026    -11.140      0.000      -0.343      -0.240\n",
       "ma.L2         -0.9924      0.033    -30.119      0.000      -1.057      -0.928\n",
       "ma.L3          0.2612      0.012     21.405      0.000       0.237       0.285\n",
       "ma.L4          0.0443      0.004     11.806      0.000       0.037       0.052\n",
       "sigma2        63.8237      0.030   2106.427      0.000      63.764      63.883\n",
       "===================================================================================\n",
       "Ljung-Box (L1) (Q):                   0.00   Jarque-Bera (JB):         167625989.35\n",
       "Prob(Q):                              0.95   Prob(JB):                         0.00\n",
       "Heteroskedasticity (H):               0.51   Skew:                             9.02\n",
       "Prob(H) (two-sided):                  0.00   Kurtosis:                       170.23\n",
       "===================================================================================\n",
       "\n",
       "Warnings:\n",
       "[1] Covariance matrix calculated using the outer product of gradients (complex-step).\n",
       "\"\"\""
      ]
     },
     "execution_count": 183,
     "metadata": {},
     "output_type": "execute_result"
    }
   ],
   "source": [
    "# Now we are training the model on all the dataset and predicting the next day\n",
    "# From previous ARIMA order (2, 1, 4) is giving less error and more effecient than other orders\n",
    "# of ARIMA model. So, I used (2, 1, 4) for (p, d, q) which represent (Auto-regressive, Integreated, Moving Average)\n",
    "# ARIMA models are generally denoted as ARIMA (p,d,q) \n",
    "# where p is the order of autoregressive model, \n",
    "# d is the degree of differencing, and q is the order of moving-average model.\n",
    "\n",
    "model_3 = ARIMA(df['Rainfall'], order=(2, 1, 4)) # (2,1,4) # (3, 1, 5) # (5, 0, 2)\n",
    "model_3 = model_3.fit()\n",
    "model_3.summary()"
   ]
  },
  {
   "cell_type": "code",
   "execution_count": 184,
   "metadata": {},
   "outputs": [
    {
     "data": {
      "text/html": [
       "<div>\n",
       "<style scoped>\n",
       "    .dataframe tbody tr th:only-of-type {\n",
       "        vertical-align: middle;\n",
       "    }\n",
       "\n",
       "    .dataframe tbody tr th {\n",
       "        vertical-align: top;\n",
       "    }\n",
       "\n",
       "    .dataframe thead th {\n",
       "        text-align: right;\n",
       "    }\n",
       "</style>\n",
       "<table border=\"1\" class=\"dataframe\">\n",
       "  <thead>\n",
       "    <tr style=\"text-align: right;\">\n",
       "      <th></th>\n",
       "      <th>Location</th>\n",
       "      <th>MinTemp</th>\n",
       "      <th>MaxTemp</th>\n",
       "      <th>Rainfall</th>\n",
       "      <th>Evaporation</th>\n",
       "      <th>Sunshine</th>\n",
       "      <th>WindGustDir</th>\n",
       "      <th>WindGustSpeed</th>\n",
       "      <th>WindDir9am</th>\n",
       "      <th>WindDir3pm</th>\n",
       "      <th>...</th>\n",
       "      <th>Humidity3pm</th>\n",
       "      <th>Pressure9am</th>\n",
       "      <th>Pressure3pm</th>\n",
       "      <th>Cloud9am</th>\n",
       "      <th>Cloud3pm</th>\n",
       "      <th>Temp9am</th>\n",
       "      <th>Temp3pm</th>\n",
       "      <th>RainToday</th>\n",
       "      <th>RISK_MM</th>\n",
       "      <th>RainTomorrow</th>\n",
       "    </tr>\n",
       "    <tr>\n",
       "      <th>Date</th>\n",
       "      <th></th>\n",
       "      <th></th>\n",
       "      <th></th>\n",
       "      <th></th>\n",
       "      <th></th>\n",
       "      <th></th>\n",
       "      <th></th>\n",
       "      <th></th>\n",
       "      <th></th>\n",
       "      <th></th>\n",
       "      <th></th>\n",
       "      <th></th>\n",
       "      <th></th>\n",
       "      <th></th>\n",
       "      <th></th>\n",
       "      <th></th>\n",
       "      <th></th>\n",
       "      <th></th>\n",
       "      <th></th>\n",
       "      <th></th>\n",
       "      <th></th>\n",
       "    </tr>\n",
       "  </thead>\n",
       "  <tbody>\n",
       "    <tr>\n",
       "      <th>2017-06-20</th>\n",
       "      <td>41</td>\n",
       "      <td>3.5</td>\n",
       "      <td>21.8</td>\n",
       "      <td>0.0</td>\n",
       "      <td>5.469824</td>\n",
       "      <td>7.624853</td>\n",
       "      <td>0</td>\n",
       "      <td>31.0</td>\n",
       "      <td>2</td>\n",
       "      <td>0</td>\n",
       "      <td>...</td>\n",
       "      <td>27.0</td>\n",
       "      <td>1024.7</td>\n",
       "      <td>1021.2</td>\n",
       "      <td>4.437189</td>\n",
       "      <td>4.503167</td>\n",
       "      <td>9.4</td>\n",
       "      <td>20.9</td>\n",
       "      <td>0</td>\n",
       "      <td>0.0</td>\n",
       "      <td>0</td>\n",
       "    </tr>\n",
       "    <tr>\n",
       "      <th>2017-06-21</th>\n",
       "      <td>41</td>\n",
       "      <td>2.8</td>\n",
       "      <td>23.4</td>\n",
       "      <td>0.0</td>\n",
       "      <td>5.469824</td>\n",
       "      <td>7.624853</td>\n",
       "      <td>0</td>\n",
       "      <td>31.0</td>\n",
       "      <td>9</td>\n",
       "      <td>1</td>\n",
       "      <td>...</td>\n",
       "      <td>24.0</td>\n",
       "      <td>1024.6</td>\n",
       "      <td>1020.3</td>\n",
       "      <td>4.437189</td>\n",
       "      <td>4.503167</td>\n",
       "      <td>10.1</td>\n",
       "      <td>22.4</td>\n",
       "      <td>0</td>\n",
       "      <td>0.0</td>\n",
       "      <td>0</td>\n",
       "    </tr>\n",
       "    <tr>\n",
       "      <th>2017-06-22</th>\n",
       "      <td>41</td>\n",
       "      <td>3.6</td>\n",
       "      <td>25.3</td>\n",
       "      <td>0.0</td>\n",
       "      <td>5.469824</td>\n",
       "      <td>7.624853</td>\n",
       "      <td>6</td>\n",
       "      <td>22.0</td>\n",
       "      <td>9</td>\n",
       "      <td>3</td>\n",
       "      <td>...</td>\n",
       "      <td>21.0</td>\n",
       "      <td>1023.5</td>\n",
       "      <td>1019.1</td>\n",
       "      <td>4.437189</td>\n",
       "      <td>4.503167</td>\n",
       "      <td>10.9</td>\n",
       "      <td>24.5</td>\n",
       "      <td>0</td>\n",
       "      <td>0.0</td>\n",
       "      <td>0</td>\n",
       "    </tr>\n",
       "    <tr>\n",
       "      <th>2017-06-23</th>\n",
       "      <td>41</td>\n",
       "      <td>5.4</td>\n",
       "      <td>26.9</td>\n",
       "      <td>0.0</td>\n",
       "      <td>5.469824</td>\n",
       "      <td>7.624853</td>\n",
       "      <td>3</td>\n",
       "      <td>37.0</td>\n",
       "      <td>9</td>\n",
       "      <td>14</td>\n",
       "      <td>...</td>\n",
       "      <td>24.0</td>\n",
       "      <td>1021.0</td>\n",
       "      <td>1016.8</td>\n",
       "      <td>4.437189</td>\n",
       "      <td>4.503167</td>\n",
       "      <td>12.5</td>\n",
       "      <td>26.1</td>\n",
       "      <td>0</td>\n",
       "      <td>0.0</td>\n",
       "      <td>0</td>\n",
       "    </tr>\n",
       "    <tr>\n",
       "      <th>2017-06-24</th>\n",
       "      <td>41</td>\n",
       "      <td>7.8</td>\n",
       "      <td>27.0</td>\n",
       "      <td>0.0</td>\n",
       "      <td>5.469824</td>\n",
       "      <td>7.624853</td>\n",
       "      <td>9</td>\n",
       "      <td>28.0</td>\n",
       "      <td>10</td>\n",
       "      <td>3</td>\n",
       "      <td>...</td>\n",
       "      <td>24.0</td>\n",
       "      <td>1019.4</td>\n",
       "      <td>1016.5</td>\n",
       "      <td>3.000000</td>\n",
       "      <td>2.000000</td>\n",
       "      <td>15.1</td>\n",
       "      <td>26.0</td>\n",
       "      <td>0</td>\n",
       "      <td>0.0</td>\n",
       "      <td>0</td>\n",
       "    </tr>\n",
       "  </tbody>\n",
       "</table>\n",
       "<p>5 rows × 23 columns</p>\n",
       "</div>"
      ],
      "text/plain": [
       "            Location  MinTemp  MaxTemp  Rainfall  Evaporation  Sunshine  \\\n",
       "Date                                                                      \n",
       "2017-06-20        41      3.5     21.8       0.0     5.469824  7.624853   \n",
       "2017-06-21        41      2.8     23.4       0.0     5.469824  7.624853   \n",
       "2017-06-22        41      3.6     25.3       0.0     5.469824  7.624853   \n",
       "2017-06-23        41      5.4     26.9       0.0     5.469824  7.624853   \n",
       "2017-06-24        41      7.8     27.0       0.0     5.469824  7.624853   \n",
       "\n",
       "            WindGustDir  WindGustSpeed  WindDir9am  WindDir3pm  ...  \\\n",
       "Date                                                            ...   \n",
       "2017-06-20            0           31.0           2           0  ...   \n",
       "2017-06-21            0           31.0           9           1  ...   \n",
       "2017-06-22            6           22.0           9           3  ...   \n",
       "2017-06-23            3           37.0           9          14  ...   \n",
       "2017-06-24            9           28.0          10           3  ...   \n",
       "\n",
       "            Humidity3pm  Pressure9am  Pressure3pm  Cloud9am  Cloud3pm  \\\n",
       "Date                                                                    \n",
       "2017-06-20         27.0       1024.7       1021.2  4.437189  4.503167   \n",
       "2017-06-21         24.0       1024.6       1020.3  4.437189  4.503167   \n",
       "2017-06-22         21.0       1023.5       1019.1  4.437189  4.503167   \n",
       "2017-06-23         24.0       1021.0       1016.8  4.437189  4.503167   \n",
       "2017-06-24         24.0       1019.4       1016.5  3.000000  2.000000   \n",
       "\n",
       "            Temp9am  Temp3pm  RainToday  RISK_MM  RainTomorrow  \n",
       "Date                                                            \n",
       "2017-06-20      9.4     20.9          0      0.0             0  \n",
       "2017-06-21     10.1     22.4          0      0.0             0  \n",
       "2017-06-22     10.9     24.5          0      0.0             0  \n",
       "2017-06-23     12.5     26.1          0      0.0             0  \n",
       "2017-06-24     15.1     26.0          0      0.0             0  \n",
       "\n",
       "[5 rows x 23 columns]"
      ]
     },
     "execution_count": 184,
     "metadata": {},
     "output_type": "execute_result"
    }
   ],
   "source": [
    "df.tail() # Checking at what date my dataset ends"
   ]
  },
  {
   "cell_type": "code",
   "execution_count": 185,
   "metadata": {},
   "outputs": [
    {
     "data": {
      "text/plain": [
       "2017-06-24    0.443889\n",
       "2017-06-25    0.566208\n",
       "Freq: D, Name: ARIMA Predictions, dtype: float64"
      ]
     },
     "execution_count": 185,
     "metadata": {},
     "output_type": "execute_result"
    }
   ],
   "source": [
    "# Making prediction for the next 1 day\n",
    "index_future_dates = pd.date_range(start='2017-06-24', end='2017-06-25')\n",
    "pred_3 = model_3.predict(start=len(df), end=len(df)+1, typ='levels').rename(\"ARIMA Predictions\")\n",
    "pred_3.index = index_future_dates\n",
    "pred_3"
   ]
  },
  {
   "cell_type": "code",
   "execution_count": 186,
   "metadata": {},
   "outputs": [
    {
     "data": {
      "text/plain": [
       "<AxesSubplot:>"
      ]
     },
     "execution_count": 186,
     "metadata": {},
     "output_type": "execute_result"
    },
    {
     "data": {
      "image/png": "[encoded data removed]",
      "text/plain": [
       "<Figure size 864x360 with 1 Axes>"
      ]
     },
     "metadata": {},
     "output_type": "display_data"
    }
   ],
   "source": [
    "pred_3.plot(figsize=(12, 5), legend=True)"
   ]
  },
  {
   "cell_type": "code",
   "execution_count": 187,
   "metadata": {},
   "outputs": [
    {
     "data": {
      "text/plain": [
       "2017-06-24    0.443889\n",
       "2017-06-25    0.566208\n",
       "Freq: D, Name: ARIMA Predictions, dtype: float64"
      ]
     },
     "execution_count": 187,
     "metadata": {},
     "output_type": "execute_result"
    }
   ],
   "source": [
    "pred_3"
   ]
  },
  {
   "cell_type": "code",
   "execution_count": 188,
   "metadata": {},
   "outputs": [
    {
     "data": {
      "image/png": "[encoded data removed]",
      "text/plain": [
       "<Figure size 1224x360 with 1 Axes>"
      ]
     },
     "metadata": {},
     "output_type": "display_data"
    }
   ],
   "source": [
    "# Visualizing the testing and predicted values for test dataset\n",
    "plt.figure(figsize=(17, 5))\n",
    "plt.grid(True)\n",
    "plt.plot(test.index, test[\"Rainfall\"], label=\"Test data values\", color=\"blue\")\n",
    "plt.plot(pred_1.index, pred_1.values, label=\"Prediction 1\", marker='o', color='red')\n",
    "plt.plot(pred_2.index, pred_2.values, label=\"Predicted 2\", color=\"black\", marker='o')\n",
    "plt.plot(pred_3.index, pred_3.values, label=\"Predicted 3\", color=\"crimson\", marker='*')\n",
    "plt.legend()\n",
    "plt.show()"
   ]
  },
  {
   "cell_type": "markdown",
   "metadata": {},
   "source": [
    "# Logistic Regression"
   ]
  },
  {
   "cell_type": "code",
   "execution_count": 189,
   "metadata": {},
   "outputs": [],
   "source": [
    "# Using the Logistic Regression model to predict the forecast given by ARIMA model for \n",
    "# rainfall and predicting if the next day 2017-06-25 will rain or not.\n",
    "# If the logistic regression model predicts \n",
    "# 1 then \"Will likely to rain on next day\"\n",
    "# 0 Then \"Will not likely to rain on next day\""
   ]
  },
  {
   "cell_type": "code",
   "execution_count": 190,
   "metadata": {},
   "outputs": [
    {
     "data": {
      "text/plain": [
       "'/home/user780/user780/AI_Assignment_2'"
      ]
     },
     "execution_count": 190,
     "metadata": {},
     "output_type": "execute_result"
    }
   ],
   "source": [
    "os.getcwd()"
   ]
  },
  {
   "cell_type": "code",
   "execution_count": 191,
   "metadata": {},
   "outputs": [
    {
     "data": {
      "text/html": [
       "<div>\n",
       "<style scoped>\n",
       "    .dataframe tbody tr th:only-of-type {\n",
       "        vertical-align: middle;\n",
       "    }\n",
       "\n",
       "    .dataframe tbody tr th {\n",
       "        vertical-align: top;\n",
       "    }\n",
       "\n",
       "    .dataframe thead th {\n",
       "        text-align: right;\n",
       "    }\n",
       "</style>\n",
       "<table border=\"1\" class=\"dataframe\">\n",
       "  <thead>\n",
       "    <tr style=\"text-align: right;\">\n",
       "      <th></th>\n",
       "      <th>Date</th>\n",
       "      <th>Location</th>\n",
       "      <th>MinTemp</th>\n",
       "      <th>MaxTemp</th>\n",
       "      <th>Rainfall</th>\n",
       "      <th>Evaporation</th>\n",
       "      <th>Sunshine</th>\n",
       "      <th>WindGustDir</th>\n",
       "      <th>WindGustSpeed</th>\n",
       "      <th>WindDir9am</th>\n",
       "      <th>...</th>\n",
       "      <th>Humidity3pm</th>\n",
       "      <th>Pressure9am</th>\n",
       "      <th>Pressure3pm</th>\n",
       "      <th>Cloud9am</th>\n",
       "      <th>Cloud3pm</th>\n",
       "      <th>Temp9am</th>\n",
       "      <th>Temp3pm</th>\n",
       "      <th>RainToday</th>\n",
       "      <th>RISK_MM</th>\n",
       "      <th>RainTomorrow</th>\n",
       "    </tr>\n",
       "  </thead>\n",
       "  <tbody>\n",
       "    <tr>\n",
       "      <th>0</th>\n",
       "      <td>2008-12-01</td>\n",
       "      <td>Albury</td>\n",
       "      <td>13.4</td>\n",
       "      <td>22.9</td>\n",
       "      <td>0.6</td>\n",
       "      <td>NaN</td>\n",
       "      <td>NaN</td>\n",
       "      <td>W</td>\n",
       "      <td>44.0</td>\n",
       "      <td>W</td>\n",
       "      <td>...</td>\n",
       "      <td>22.0</td>\n",
       "      <td>1007.7</td>\n",
       "      <td>1007.1</td>\n",
       "      <td>8.0</td>\n",
       "      <td>NaN</td>\n",
       "      <td>16.9</td>\n",
       "      <td>21.8</td>\n",
       "      <td>No</td>\n",
       "      <td>0.0</td>\n",
       "      <td>No</td>\n",
       "    </tr>\n",
       "    <tr>\n",
       "      <th>1</th>\n",
       "      <td>2008-12-02</td>\n",
       "      <td>Albury</td>\n",
       "      <td>7.4</td>\n",
       "      <td>25.1</td>\n",
       "      <td>0.0</td>\n",
       "      <td>NaN</td>\n",
       "      <td>NaN</td>\n",
       "      <td>WNW</td>\n",
       "      <td>44.0</td>\n",
       "      <td>NNW</td>\n",
       "      <td>...</td>\n",
       "      <td>25.0</td>\n",
       "      <td>1010.6</td>\n",
       "      <td>1007.8</td>\n",
       "      <td>NaN</td>\n",
       "      <td>NaN</td>\n",
       "      <td>17.2</td>\n",
       "      <td>24.3</td>\n",
       "      <td>No</td>\n",
       "      <td>0.0</td>\n",
       "      <td>No</td>\n",
       "    </tr>\n",
       "    <tr>\n",
       "      <th>2</th>\n",
       "      <td>2008-12-03</td>\n",
       "      <td>Albury</td>\n",
       "      <td>12.9</td>\n",
       "      <td>25.7</td>\n",
       "      <td>0.0</td>\n",
       "      <td>NaN</td>\n",
       "      <td>NaN</td>\n",
       "      <td>WSW</td>\n",
       "      <td>46.0</td>\n",
       "      <td>W</td>\n",
       "      <td>...</td>\n",
       "      <td>30.0</td>\n",
       "      <td>1007.6</td>\n",
       "      <td>1008.7</td>\n",
       "      <td>NaN</td>\n",
       "      <td>2.0</td>\n",
       "      <td>21.0</td>\n",
       "      <td>23.2</td>\n",
       "      <td>No</td>\n",
       "      <td>0.0</td>\n",
       "      <td>No</td>\n",
       "    </tr>\n",
       "    <tr>\n",
       "      <th>3</th>\n",
       "      <td>2008-12-04</td>\n",
       "      <td>Albury</td>\n",
       "      <td>9.2</td>\n",
       "      <td>28.0</td>\n",
       "      <td>0.0</td>\n",
       "      <td>NaN</td>\n",
       "      <td>NaN</td>\n",
       "      <td>NE</td>\n",
       "      <td>24.0</td>\n",
       "      <td>SE</td>\n",
       "      <td>...</td>\n",
       "      <td>16.0</td>\n",
       "      <td>1017.6</td>\n",
       "      <td>1012.8</td>\n",
       "      <td>NaN</td>\n",
       "      <td>NaN</td>\n",
       "      <td>18.1</td>\n",
       "      <td>26.5</td>\n",
       "      <td>No</td>\n",
       "      <td>1.0</td>\n",
       "      <td>No</td>\n",
       "    </tr>\n",
       "    <tr>\n",
       "      <th>4</th>\n",
       "      <td>2008-12-05</td>\n",
       "      <td>Albury</td>\n",
       "      <td>17.5</td>\n",
       "      <td>32.3</td>\n",
       "      <td>1.0</td>\n",
       "      <td>NaN</td>\n",
       "      <td>NaN</td>\n",
       "      <td>W</td>\n",
       "      <td>41.0</td>\n",
       "      <td>ENE</td>\n",
       "      <td>...</td>\n",
       "      <td>33.0</td>\n",
       "      <td>1010.8</td>\n",
       "      <td>1006.0</td>\n",
       "      <td>7.0</td>\n",
       "      <td>8.0</td>\n",
       "      <td>17.8</td>\n",
       "      <td>29.7</td>\n",
       "      <td>No</td>\n",
       "      <td>0.2</td>\n",
       "      <td>No</td>\n",
       "    </tr>\n",
       "  </tbody>\n",
       "</table>\n",
       "<p>5 rows × 24 columns</p>\n",
       "</div>"
      ],
      "text/plain": [
       "         Date Location  MinTemp  MaxTemp  Rainfall  Evaporation  Sunshine  \\\n",
       "0  2008-12-01   Albury     13.4     22.9       0.6          NaN       NaN   \n",
       "1  2008-12-02   Albury      7.4     25.1       0.0          NaN       NaN   \n",
       "2  2008-12-03   Albury     12.9     25.7       0.0          NaN       NaN   \n",
       "3  2008-12-04   Albury      9.2     28.0       0.0          NaN       NaN   \n",
       "4  2008-12-05   Albury     17.5     32.3       1.0          NaN       NaN   \n",
       "\n",
       "  WindGustDir  WindGustSpeed WindDir9am  ... Humidity3pm  Pressure9am  \\\n",
       "0           W           44.0          W  ...        22.0       1007.7   \n",
       "1         WNW           44.0        NNW  ...        25.0       1010.6   \n",
       "2         WSW           46.0          W  ...        30.0       1007.6   \n",
       "3          NE           24.0         SE  ...        16.0       1017.6   \n",
       "4           W           41.0        ENE  ...        33.0       1010.8   \n",
       "\n",
       "   Pressure3pm  Cloud9am  Cloud3pm  Temp9am  Temp3pm  RainToday  RISK_MM  \\\n",
       "0       1007.1       8.0       NaN     16.9     21.8         No      0.0   \n",
       "1       1007.8       NaN       NaN     17.2     24.3         No      0.0   \n",
       "2       1008.7       NaN       2.0     21.0     23.2         No      0.0   \n",
       "3       1012.8       NaN       NaN     18.1     26.5         No      1.0   \n",
       "4       1006.0       7.0       8.0     17.8     29.7         No      0.2   \n",
       "\n",
       "   RainTomorrow  \n",
       "0            No  \n",
       "1            No  \n",
       "2            No  \n",
       "3            No  \n",
       "4            No  \n",
       "\n",
       "[5 rows x 24 columns]"
      ]
     },
     "execution_count": 191,
     "metadata": {},
     "output_type": "execute_result"
    }
   ],
   "source": [
    "# Reading the csv file again and for preparing the whether the rain will fall on next day or not.\n",
    "df = pd.read_csv('/home/user780/user780/AI_Assignment_2/weatherAUS.csv')\n",
    "df.head()"
   ]
  },
  {
   "cell_type": "code",
   "execution_count": 192,
   "metadata": {},
   "outputs": [],
   "source": [
    "# Droping the date column as it is not needed only Rainfall columns is needed.\n",
    "df.drop(columns=\"Date\", inplace=True)"
   ]
  },
  {
   "cell_type": "code",
   "execution_count": 193,
   "metadata": {},
   "outputs": [
    {
     "data": {
      "text/plain": [
       "Location          object\n",
       "MinTemp          float64\n",
       "MaxTemp          float64\n",
       "Rainfall         float64\n",
       "Evaporation      float64\n",
       "Sunshine         float64\n",
       "WindGustDir       object\n",
       "WindGustSpeed    float64\n",
       "WindDir9am        object\n",
       "WindDir3pm        object\n",
       "WindSpeed9am     float64\n",
       "WindSpeed3pm     float64\n",
       "Humidity9am      float64\n",
       "Humidity3pm      float64\n",
       "Pressure9am      float64\n",
       "Pressure3pm      float64\n",
       "Cloud9am         float64\n",
       "Cloud3pm         float64\n",
       "Temp9am          float64\n",
       "Temp3pm          float64\n",
       "RainToday         object\n",
       "RISK_MM          float64\n",
       "RainTomorrow      object\n",
       "dtype: object"
      ]
     },
     "execution_count": 193,
     "metadata": {},
     "output_type": "execute_result"
    }
   ],
   "source": [
    "df.dtypes"
   ]
  },
  {
   "cell_type": "code",
   "execution_count": 194,
   "metadata": {},
   "outputs": [
    {
     "data": {
      "text/plain": [
       "1406"
      ]
     },
     "execution_count": 194,
     "metadata": {},
     "output_type": "execute_result"
    }
   ],
   "source": [
    "df[\"Rainfall\"].isna().sum() # Checking for null values of Rainfall"
   ]
  },
  {
   "cell_type": "code",
   "execution_count": 195,
   "metadata": {},
   "outputs": [
    {
     "data": {
      "text/plain": [
       "0"
      ]
     },
     "execution_count": 195,
     "metadata": {},
     "output_type": "execute_result"
    }
   ],
   "source": [
    "# Both the method Interpolate and mean for filling the null values of the rainfall \n",
    "# is giving same accuracy score. So, I have used mean.\n",
    "\n",
    "# df[\"Rainfall\"].interpolate(method ='linear', limit_direction='both', inplace=True)\n",
    "df[\"Rainfall\"].fillna(df[\"Rainfall\"].mean(), inplace=True)\n",
    "df[\"Rainfall\"].isna().sum()"
   ]
  },
  {
   "cell_type": "code",
   "execution_count": 196,
   "metadata": {},
   "outputs": [],
   "source": [
    "# Replacing the 'yes' with 1 and 'No' with 0\n",
    "\n",
    "df['RainTomorrow'] = df['RainTomorrow'].apply(lambda x : 1 if x == 'Yes' else 0)"
   ]
  },
  {
   "cell_type": "code",
   "execution_count": 197,
   "metadata": {},
   "outputs": [
    {
     "data": {
      "text/plain": [
       "{0, 1}"
      ]
     },
     "execution_count": 197,
     "metadata": {},
     "output_type": "execute_result"
    }
   ],
   "source": [
    "set(df[\"RainTomorrow\"]) # unique values for RainTomarrow"
   ]
  },
  {
   "cell_type": "code",
   "execution_count": 198,
   "metadata": {},
   "outputs": [],
   "source": [
    "# Creating Train and test data.\n",
    "\n",
    "X = df[[\"Rainfall\"]]\n",
    "y = df[[\"RainTomorrow\"]]"
   ]
  },
  {
   "cell_type": "code",
   "execution_count": 199,
   "metadata": {},
   "outputs": [],
   "source": [
    "# pre-processing the values of independent variable by using MinMaxScaling\n",
    "# rescaling the range of features to scale the range in [0, 1] or [-1, 1]\n",
    "\n",
    "scaler = MinMaxScaler()\n",
    "norm_X = scaler.fit_transform(X)\n",
    "X_norm = pd.DataFrame(norm_X, columns = X.columns) "
   ]
  },
  {
   "cell_type": "code",
   "execution_count": 200,
   "metadata": {},
   "outputs": [
    {
     "name": "stdout",
     "output_type": "stream",
     "text": [
      "X train: (106644, 1)\n",
      "X test: (35549, 1)\n",
      "y train: (106644, 1)\n",
      "y test: (35549, 1)\n"
     ]
    }
   ],
   "source": [
    "# Splitting the train and test data in X_train, X_test, y_train and y_test\n",
    "# Where, \n",
    "# X_train and y_train will be for training.\n",
    "# X_test and y_test will be for testing.\n",
    "\n",
    "X_train, X_test, y_train, y_test = train_test_split(X_norm, y, random_state=104, test_size=0.25, shuffle=True)\n",
    "print(f\"X train: {X_train.shape}\")\n",
    "print(f\"X test: {X_test.shape}\")\n",
    "print(f\"y train: {y_train.shape}\")\n",
    "print(f\"y test: {y_test.shape}\")"
   ]
  },
  {
   "cell_type": "code",
   "execution_count": 201,
   "metadata": {},
   "outputs": [
    {
     "data": {
      "text/plain": [
       "LogisticRegression()"
      ]
     },
     "execution_count": 201,
     "metadata": {},
     "output_type": "execute_result"
    }
   ],
   "source": [
    "# Using sklearn's LogisticRegression model and training it with train datasets.\n",
    "\n",
    "log_model = LogisticRegression() \n",
    "log_model.fit(X_train, y_train)"
   ]
  },
  {
   "cell_type": "code",
   "execution_count": 202,
   "metadata": {},
   "outputs": [
    {
     "data": {
      "text/plain": [
       "LogisticRegression(C=10, class_weight='balanced', random_state=42,\n",
       "                   solver='saga')"
      ]
     },
     "execution_count": 202,
     "metadata": {},
     "output_type": "execute_result"
    }
   ],
   "source": [
    "# Hyper-parameter tuning of logistic model and testing\n",
    "\n",
    "# penalty : {'l1', 'l2', 'elasticnet', 'none'}, default='l2'\n",
    "#         Specify the norm of the penalty:\n",
    "\n",
    "#         - `'none'`: no penalty is added;\n",
    "#         - `'l2'`: add a L2 penalty term and it is the default choice;\n",
    "#         - `'l1'`: add a L1 penalty term;\n",
    "#         - `'elasticnet'`: both L1 and L2 penalty terms are added.\n",
    "\n",
    "# C : float, default=1.0\n",
    "#         Inverse of regularization strength; must be a positive float.\n",
    "#         Like in support vector machines, smaller values specify stronger\n",
    "#         regularization.\n",
    "        \n",
    "# fit_intercept : bool, default=True\n",
    "#         Specifies if a constant (a.k.a. bias or intercept) should be\n",
    "#         added to the decision function.\n",
    "        \n",
    "# intercept_scaling : float, default=1\n",
    "    \n",
    "# class_weight : dict or 'balanced', default=None\n",
    "#         Weights associated with classes in the form ``{class_label: weight}``.\n",
    "#         If not given, all classes are supposed to have weight one.\n",
    "\n",
    "#         The \"balanced\" mode uses the values of y to automatically adjust\n",
    "#         weights inversely proportional to class frequencies in the input data\n",
    "#         as ``n_samples / (n_classes * np.bincount(y))``.\n",
    "        \n",
    "# random_state : int, RandomState instance, default=None\n",
    "#         Used when ``solver`` == 'sag', 'saga' or 'liblinear' to shuffle the\n",
    "#         data. See :term:`Glossary <random_state>` for details.\n",
    "\n",
    "# solver : {'newton-cg', 'lbfgs', 'liblinear', 'sag', 'saga'}, \\\n",
    "#             default='lbfgs'\n",
    "\n",
    "log_model = LogisticRegression(penalty = 'l2', C=10, fit_intercept = True, intercept_scaling = 1, class_weight='balanced', random_state = 42, solver='saga') \n",
    "log_model.fit(X_train, y_train)"
   ]
  },
  {
   "cell_type": "code",
   "execution_count": 203,
   "metadata": {},
   "outputs": [
    {
     "data": {
      "text/plain": [
       "array([0, 0, 1, ..., 0, 0, 0])"
      ]
     },
     "execution_count": 203,
     "metadata": {},
     "output_type": "execute_result"
    }
   ],
   "source": [
    "y_pred = log_model.predict(X_test) # Predicting on test dataset\n",
    "y_pred"
   ]
  },
  {
   "cell_type": "code",
   "execution_count": 204,
   "metadata": {},
   "outputs": [
    {
     "name": "stdout",
     "output_type": "stream",
     "text": [
      "Accuracy is: 78.18504036681763\n"
     ]
    }
   ],
   "source": [
    "# Evaluating the model accuracy of Logistic Regression model\n",
    "\n",
    "# Accuracy = r2_score(y_test['No'], y_pred) * 100\n",
    "Accuracy = accuracy_score(y_test, y_pred) * 100\n",
    "\n",
    "print(f\"Accuracy is: {Accuracy}\")"
   ]
  },
  {
   "cell_type": "code",
   "execution_count": 205,
   "metadata": {},
   "outputs": [
    {
     "data": {
      "text/plain": [
       "Date\n",
       "2017-05-26    0.957895\n",
       "2017-05-27    1.221011\n",
       "2017-05-28    1.299279\n",
       "2017-05-29    1.355258\n",
       "2017-05-30    1.368862\n",
       "2017-05-31    1.396476\n",
       "2017-06-01    1.401915\n",
       "2017-06-02    1.424539\n",
       "2017-06-03    1.429691\n",
       "2017-06-04    1.450352\n",
       "2017-06-05    1.456077\n",
       "2017-06-06    1.475304\n",
       "2017-06-07    1.481596\n",
       "2017-06-08    1.499581\n",
       "2017-06-09    1.506341\n",
       "2017-06-10    1.523217\n",
       "2017-06-11    1.530347\n",
       "2017-06-12    1.546225\n",
       "2017-06-13    1.553641\n",
       "2017-06-14    1.568621\n",
       "2017-06-15    1.576248\n",
       "2017-06-16    1.590415\n",
       "2017-06-17    1.598193\n",
       "2017-06-18    1.611621\n",
       "2017-06-19    1.619496\n",
       "2017-06-20    1.632252\n",
       "2017-06-21    1.640180\n",
       "2017-06-22    1.652322\n",
       "2017-06-23    1.660265\n",
       "2017-06-24    1.671844\n",
       "Name: ARIMA Predictions, dtype: float64"
      ]
     },
     "execution_count": 205,
     "metadata": {},
     "output_type": "execute_result"
    }
   ],
   "source": [
    "pred_1 # Gives the predictions of Rainfall for test data set which have last 30 row for model 1."
   ]
  },
  {
   "cell_type": "code",
   "execution_count": 206,
   "metadata": {},
   "outputs": [
    {
     "data": {
      "text/plain": [
       "2017-06-24    1.039239\n",
       "2017-06-25    1.046324\n",
       "Freq: D, Name: ARIMA Predictions, dtype: float64"
      ]
     },
     "execution_count": 206,
     "metadata": {},
     "output_type": "execute_result"
    }
   ],
   "source": [
    "pred_2 # Gives the predictions of Rainfall for model 2 for current day and next day which is 2017-06-25."
   ]
  },
  {
   "cell_type": "code",
   "execution_count": 207,
   "metadata": {},
   "outputs": [
    {
     "data": {
      "text/plain": [
       "1.0463243469027794"
      ]
     },
     "execution_count": 207,
     "metadata": {},
     "output_type": "execute_result"
    }
   ],
   "source": [
    "pred_2.iloc[1] # Rainfall float value for the next day according to model_2 prediction."
   ]
  },
  {
   "cell_type": "code",
   "execution_count": 208,
   "metadata": {},
   "outputs": [
    {
     "data": {
      "text/plain": [
       "array([1])"
      ]
     },
     "execution_count": 208,
     "metadata": {},
     "output_type": "execute_result"
    }
   ],
   "source": [
    "log_model.predict([[pred_2.iloc[1]]]) # It is going to be rain on next day 2017-06-25."
   ]
  },
  {
   "cell_type": "code",
   "execution_count": 209,
   "metadata": {},
   "outputs": [
    {
     "data": {
      "text/plain": [
       "2017-06-24    0.443889\n",
       "2017-06-25    0.566208\n",
       "Freq: D, Name: ARIMA Predictions, dtype: float64"
      ]
     },
     "execution_count": 209,
     "metadata": {},
     "output_type": "execute_result"
    }
   ],
   "source": [
    "pred_3 # Final model"
   ]
  },
  {
   "cell_type": "code",
   "execution_count": 210,
   "metadata": {},
   "outputs": [
    {
     "data": {
      "text/plain": [
       "0.5662079817703275"
      ]
     },
     "execution_count": 210,
     "metadata": {},
     "output_type": "execute_result"
    }
   ],
   "source": [
    "pred_3.iloc[1] # Rainfall float value for the next day according to model_3 (Final model) prediction."
   ]
  },
  {
   "cell_type": "code",
   "execution_count": 211,
   "metadata": {},
   "outputs": [
    {
     "name": "stdout",
     "output_type": "stream",
     "text": [
      "Will rain on next day 2017-06-25.\n"
     ]
    }
   ],
   "source": [
    "# It is going to rain or not\n",
    "# if 1 :- Will rain on next day 2017-06-25.\n",
    "# else:- Will not rain on next day 2017-06-25.\n",
    "prediction = int(log_model.predict([[pred_3.iloc[1]]])) \n",
    "if prediction == 1:\n",
    "    print(\"Will rain on next day 2017-06-25.\")\n",
    "else:\n",
    "    print(\"Will not rain on next day 2017-06-25.\")\n"
   ]
  },
  {
   "cell_type": "markdown",
   "metadata": {},
   "source": [
    "# Conclusion:-\n",
    "\n",
    "## It is likely to be rain on the next day 2017-06-25."
   ]
  }
 ],
 "metadata": {
  "kernelspec": {
   "display_name": "Python 3",
   "language": "python",
   "name": "python3"
  },
  "language_info": {
   "codemirror_mode": {
    "name": "ipython",
    "version": 3
   },
   "file_extension": ".py",
   "mimetype": "text/x-python",
   "name": "python",
   "nbconvert_exporter": "python",
   "pygments_lexer": "ipython3",
   "version": "3.6.9"
  },
  "vscode": {
   "interpreter": {
    "hash": "a42ccb73e7d9bfdf27e036f1d2b8b681e55fc0743cc5586bc2474d4a60f4b886"
   }
  }
 },
 "nbformat": 4,
 "nbformat_minor": 2
}
